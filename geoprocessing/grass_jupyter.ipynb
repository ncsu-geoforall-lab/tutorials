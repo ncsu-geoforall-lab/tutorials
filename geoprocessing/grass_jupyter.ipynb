{
  "cells": [
    {
      "cell_type": "code",
      "metadata": {},
      "source": [
        "# import standard Python packages\n",
        "import os\n",
        "import sys\n",
        "import subprocess\n",
        "from pathlib import Path"
      ],
      "id": "d2d66d0f",
      "execution_count": null,
      "outputs": []
    },
    {
      "cell_type": "code",
      "metadata": {},
      "source": [
        "sys.path.append(\n",
        "    subprocess.check_output([\"grass\", \"--config\", \"python_path\"], text=True).strip()\n",
        ")"
      ],
      "id": "64e4dee7",
      "execution_count": null,
      "outputs": []
    },
    {
      "cell_type": "code",
      "metadata": {},
      "source": [
        "# import GRASS GIS python packages\n",
        "import grass.script as gs\n",
        "import grass.jupyter as gj"
      ],
      "id": "52a8ec09",
      "execution_count": null,
      "outputs": []
    },
    {
      "cell_type": "code",
      "metadata": {},
      "source": [
        "# create a temporary folder where to place our GRASS project\n",
        "import tempfile\n",
        "tempdir = tempfile.TemporaryDirectory()"
      ],
      "id": "9f80bf3f",
      "execution_count": null,
      "outputs": []
    },
    {
      "cell_type": "code",
      "metadata": {},
      "source": [
        "gs.create_project(path=tempdir.name, name=\"nc_sentinel\", epsg=\"32617\", overwrite=True)"
      ],
      "id": "554eeb59",
      "execution_count": null,
      "outputs": []
    },
    {
      "cell_type": "code",
      "metadata": {},
      "source": [
        "# start GRASS in the recently created project\n",
        "session = gj.init(Path(tempdir.name,\"nc_sentinel\"))"
      ],
      "id": "eb1a277b",
      "execution_count": null,
      "outputs": []
    }
  ],
  "metadata": {
    "kernelspec": {
      "name": "python3",
      "language": "python",
      "display_name": "Python 3 (ipykernel)"
    }
  },
  "nbformat": 4,
  "nbformat_minor": 5
}