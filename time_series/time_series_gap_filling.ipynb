{
  "cells": [
    {
      "cell_type": "raw",
      "metadata": {},
      "source": [
        "---\n",
        "title: Time series gap filling\n",
        "author: Veronica Andreo\n",
        "date: today\n",
        "format:\n",
        "  html:\n",
        "    code-tools: true\n",
        "    code-copy: true\n",
        "    code-fold: false\n",
        "engine: knitr\n",
        "execute:\n",
        "  eval: false\n",
        "  keep-ipynb: true\n",
        "---"
      ]
    },
    {
      "cell_type": "markdown",
      "metadata": {},
      "source": [
        "In this fifth part of the time series tutorials, we will go through an important \n",
        "topic when working with optic remote sensing derived data or products: gaps and\n",
        "gap filling. There are several other methods to perform missing data imputation.\n",
        "Here, we'll only demonstrate the usage of GRASS GIS tools that allow us to\n",
        "perform gap filling in time, also called temporal interpolation. \n",
        "Specifically, we'll show how to reconstruct missing data using:\n",
        "\n",
        "- [t.rast.gapfill](https://grass.osgeo.org/grass-stable/manuals/t.rast.gapfill.html), \n",
        "- [r.hants](https://grass.osgeo.org/grass-stable/manuals/addons/r.hants.html), and\n",
        "- [r.series.lwr](https://grass.osgeo.org/grass-stable/manuals/addons/r.series.lwr.html).\n",
        "\n",
        "\n",
        "::: {.callout-note title=\"Setup\"}\n",
        "This tutorial can be run locally or in Google Colab. However, make sure you\n",
        "install GRASS GIS 8.3+, download the LST sample data and set up your project\n",
        "as explained in the [first part](time_series_management_and_visualization.qmd) \n",
        "of these time series tutorials.\n",
        ":::"
      ]
    },
    {
      "cell_type": "code",
      "metadata": {},
      "source": [
        "#| echo: false\n",
        "\n",
        "import os\n",
        "import sys\n",
        "import subprocess\n",
        "\n",
        "# GRASS GIS database variables\n",
        "grassbin = \"grass-dev\"\n",
        "grassdata = os.path.join(os.path.expanduser('~'), \"grassdata\")\n",
        "project = \"eu_laea\"\n",
        "mapset = \"italy_LST_daily\"\n",
        "\n",
        "sys.path.append(\n",
        "    subprocess.check_output([grassbin, \"--config\", \"python_path\"], text=True).strip()\n",
        ")"
      ],
      "execution_count": null,
      "outputs": []
    },
    {
      "cell_type": "code",
      "metadata": {},
      "source": [
        "#| echo: false\n",
        "\n",
        "# Import the GRASS GIS packages we need\n",
        "import grass.script as gs\n",
        "import grass.jupyter as gj\n",
        "\n",
        "# Start the GRASS GIS Session\n",
        "session = gj.init(grassdata, project, mapset);"
      ],
      "execution_count": null,
      "outputs": []
    },
    {
      "cell_type": "markdown",
      "metadata": {},
      "source": [
        "There are different types of gaps that we might want/need to fill when working\n",
        "with time series data: \n",
        "- full maps missing, e.g. a daily time series where some days are missing because product tiles missing from the archive, or when we want to interpolate from weekly to daily data\n",
        "- series is complete but (some) maps have missing data because of clouds, snow, product quality flags applied, etc.\n",
        "\n",
        "## Full maps missing\n",
        "\n",
        "For the case of full maps missing, GRASS GIS offers simple linear interpolation\n",
        "in time through the \n",
        "[t.rast.gapfill](https://grass.osgeo.org/grass-stable/manuals/t.rast.gapfill.html) \n",
        "tool. Let's see an example: we will first aggregate our daily LST time series\n",
        "with a monthly granularity, then make a copy of it, remove a couple of maps here\n",
        "and there, apply a temporal linear interpolation with t.rast.gapfill and compare\n",
        "the results."
      ]
    },
    {
      "cell_type": "code",
      "metadata": {},
      "source": [
        "# Aggregate daily time series into monthly\n",
        "gs.run_command(\"t.rast.aggregate\",\n",
        "               input=\"lst_daily\",\n",
        "               output=\"lst_monthly\", \n",
        "               basename=\"lst_monthly\",\n",
        "               method=\"average\",\n",
        "               granularity=\"1 months\",\n",
        "               suffix=\"gran\")"
      ],
      "execution_count": null,
      "outputs": []
    },
    {
      "cell_type": "code",
      "metadata": {},
      "source": [
        "# Create a copy\n",
        "gs.run_command(\"t.copy\",\n",
        "               input=\"lst_monthly\",\n",
        "               output=\"lst_monthly_copy\")\n",
        "\n",
        "# Unregister maps from lst_monthly_copy\n",
        "# Note that we remove 1, 2 and 3 consecutive maps in different periods of the year\n",
        "to_unregister=[lst_monthly_2014_03,lst_monthly_2014_10,lst_monthly_2014_11,lst_monthly_2015_06,lst_monthly_2015_07,lst_monthly_2015_08]\n",
        "\n",
        "gs.run_command(\"t.unregister\",\n",
        "               input=\"lst_monthly_copy\",\n",
        "               maps=to_unregister)\n",
        "\n",
        "# Check gaps\n",
        "gs.read_command(\"t.rast.list\",\n",
        "                input=\"lst_monthly_copy\", \n",
        "                method=\"deltagaps\")"
      ],
      "execution_count": null,
      "outputs": []
    },
    {
      "cell_type": "code",
      "metadata": {},
      "source": [
        "# Fill gaps\n",
        "gs.run_command(\"t.rast.gapfill\",\n",
        "               input=\"lst_monthly_copy\",\n",
        "               basename=\"gaps\")\n",
        "\n",
        "# Check gaps again and compare values with lst_monthly\n",
        "gs.run_command(\"t.rast.list\",\n",
        "               input=\"lst_monthly_copy\",\n",
        "               columns=\"name,start_time,min,max\",\n",
        "               where=\"start_time < '2016-01-01'\")\n",
        "gs.run_command(\"t.rast.list\",\n",
        "               input=\"lst_monthly\",\n",
        "               columns=\"name,start_time,min,max\",\n",
        "               where=\"start_time < '2016-01-01'\")"
      ],
      "execution_count": null,
      "outputs": []
    },
    {
      "cell_type": "code",
      "metadata": {},
      "source": [
        "# Plot the two time series for the city of Trento\n",
        "!g.gui.tplot strds=lst_monthly,lst_monthly_copy \\\n",
        "  coordinates=4410837.455830389,2559852.473498233 \\\n",
        "  title=\"Trento daily LST\" xlabel=\"Time\" ylabel=\"LST (C)\" \\\n",
        "  size=800,500 output=trento_gapfilled.png"
      ],
      "execution_count": null,
      "outputs": []
    },
    {
      "cell_type": "markdown",
      "metadata": {},
      "source": [
        "![Linear interpolation of LST time series](img/trento_gapfilled.png)\n",
        "\n",
        "\n",
        "## Maps with holes\n",
        "\n",
        "For the case when maps have no data areas (i.e. holes or gaps) because of cloud\n",
        "or cloud shadow masking, or as a result of QA flags application, two GRASS tools \n",
        "can be used, namely \n",
        "[r.hants](https://grass.osgeo.org/grass-stable/manuals/addons/r.hants.html) or \n",
        "[r.series.lwr](https://grass.osgeo.org/grass-stable/manuals/addons/r.series.lwr.html). \n",
        "When to use one or the other will mostly depend on the variable that the time\n",
        "series represent (i.e., temperature, NDVI, chlorophyll, etc.) and its granularity\n",
        "(i.e., hourly, daily, weekly, monthly, etc.). \n",
        "\n",
        "\n",
        "### Simulating the holes\n",
        "\n",
        "To demonstrate the use of r.hants and r.series.lwr with our LST time series, we \n",
        "will simulate the occurrence of clouds by randomly masking different \n",
        "provinces in our study area. This will be a very simplified case only for \n",
        "demonstration purposes. A proper example of how to mask clouds and apply quality\n",
        "assessment flags will be developed in a different series of tutorials.\n",
        "\n",
        "We clip the provinces vector map with the computational region in order to\n",
        "get the list of polygons' ids or cat values, that we'll use as *\"clouds\"*."
      ]
    },
    {
      "cell_type": "code",
      "metadata": {},
      "source": [
        "# Clip Italy provinces to the comp region\n",
        "gs.run_command(\"v.clip\",\n",
        "               input=\"italy_borders_2\",\n",
        "               output=\"italy_borders_2_clip\",\n",
        "               flags=\"r\")\n",
        "\n",
        "# Get unique categories \n",
        "cats = gs.parse_command(\"v.category\",\n",
        "                        input=\"italy_borders_2_clip\", \n",
        "                        option=\"print\")\n",
        "                        \n",
        "cats = list(cats.keys())"
      ],
      "execution_count": null,
      "outputs": []
    },
    {
      "cell_type": "markdown",
      "metadata": {},
      "source": [
        "Then we list the maps over which we will create the gaps."
      ]
    },
    {
      "cell_type": "code",
      "metadata": {},
      "source": [
        "# Get list of monthly maps\n",
        "maps = gs.parse_command(\"t.rast.list\",\n",
        "                         input=\"lst_monthly\",\n",
        "                         columns=\"name\",\n",
        "                         method=\"comma\",\n",
        "                         flags=\"u\")\n",
        "\n",
        "maps = list(maps.keys())"
      ],
      "execution_count": null,
      "outputs": []
    },
    {
      "cell_type": "markdown",
      "metadata": {},
      "source": [
        "Finally, we actually use 4 random polygons to create holes in each map of the\n",
        "monthly LST time series. Basically, for each map of the series, we apply an\n",
        "inverse mask of 4 random polygons, we overwrite the maps to actually get the \n",
        "holes (i.e., MASK is otherwise virtual), and we remove the mask."
      ]
    },
    {
      "cell_type": "code",
      "metadata": {},
      "source": [
        "import random\n",
        "n=4\n",
        "\n",
        "for i in range(len(maps)):\n",
        "    gs.run_command(\"r.mask\", \n",
        "                   vector=\"italy_borders_2_clip\", \n",
        "                   cats=random.sample(cats,n), \n",
        "                   flags=\"i\")\n",
        "    gs.mapcalc(exp=f\"{maps[i]} = {maps[i]}\", \n",
        "               overwrite=True)\n",
        "    gs.run_command(\"r.mask\", \n",
        "                   flags=\"r\")"
      ],
      "execution_count": null,
      "outputs": []
    },
    {
      "cell_type": "markdown",
      "metadata": {},
      "source": [
        "Let's check the holes we created"
      ]
    },
    {
      "cell_type": "code",
      "metadata": {},
      "source": [
        "gaps = gj.Map(height = 500)\n",
        "gaps.d_rast(map=\"lst_monthly_2017_01\")\n",
        "gaps.show()"
      ],
      "execution_count": null,
      "outputs": []
    },
    {
      "cell_type": "markdown",
      "metadata": {},
      "source": [
        "### Filling the holes \n",
        "\n",
        "#### Harmonic analysis of time series\n",
        "\n",
        "[r.hants](https://grass.osgeo.org/grass-stable/manuals/addons/r.hants.html) \n",
        "performs a **Harmonic ANalysis of Time Series (HANTS)** analysis in order\n",
        "to estimate missing values and identify outliers. \n",
        "This algorithm considers only the most significant frequencies expected to be \n",
        "present in the time profiles (e.g. determined from a preceding Fast Fourier \n",
        "Transform analysis), and applies a least squares curve fitting procedure based \n",
        "on harmonic components (sines and cosines).\n",
        "\n",
        "The option `nf`, number of frequencies, should be carefully chosen. As a rule of \n",
        "thumb, the nf should be at least the estimated periodicity plus 3, e.g. for \n",
        "NDVI with an annual cycle (one peak per year), the number of\n",
        "frequencies should be at least 4 when analyzing one year. \n",
        "The number of frequencies should not be too large, either. Otherwise, \n",
        "outliers can no longer be identified because of overfitting. \n",
        "Moreover, the number of frequencies should be smaller than n input maps / 2 if \n",
        "missing values should be reconstructed."
      ]
    },
    {
      "cell_type": "code",
      "metadata": {},
      "source": [
        "# Install extension\n",
        "gs.run_command(\"g.extension\",\n",
        "               extension=\"r.hants\")"
      ],
      "execution_count": null,
      "outputs": []
    },
    {
      "cell_type": "code",
      "metadata": {},
      "source": [
        "# Basic usage of r.hants\n",
        "gs.run_command(\"r.hants\",\n",
        "               input=maps,\n",
        "               nf=4,\n",
        "               base_period=12)"
      ],
      "execution_count": null,
      "outputs": []
    },
    {
      "cell_type": "markdown",
      "metadata": {},
      "source": [
        ":::{.callout-notes}\n",
        "Other *r.hants* options and flags that can be used to adjust the fit can be found\n",
        "at the tool manual page: \n",
        "<https://grass.osgeo.org/grass-stable/manuals/addons/r.hants.html> \n",
        "and also within the \n",
        "[original publication](https://www.tandfonline.com/doi/abs/10.1080/014311600209814).\n",
        ":::"
      ]
    },
    {
      "cell_type": "code",
      "metadata": {},
      "source": [
        "# List filled maps\n",
        "hants_maps = gs.list_grouped(type=\"raster\", \n",
        "                             pattern=\"*hants\")[\"italy_LST_daily\"]"
      ],
      "execution_count": null,
      "outputs": []
    },
    {
      "cell_type": "code",
      "metadata": {},
      "source": [
        "# Ccreate new time series \n",
        "gs.run_command(\"t.create\",\n",
        "               output=\"lst_monthly_hants\",\n",
        "               type=\"strds\",\n",
        "               temporaltype=\"absolute\",\n",
        "               title=\"Gap-filled monthly LST\",\n",
        "               description=\"HANTS gap-filled monthly LST - North Italy, 2014-2018\")"
      ],
      "execution_count": null,
      "outputs": []
    },
    {
      "cell_type": "code",
      "metadata": {},
      "source": [
        "# register maps\n",
        "gs.run_command(\"t.register\",\n",
        "               flags=\"i\",\n",
        "               input=\"lst_monthly_hants\",\n",
        "               type=\"raster\",\n",
        "               maps=hants_maps,\n",
        "               start=\"2014-01-01\",\n",
        "               increment=\"1 months\")"
      ],
      "execution_count": null,
      "outputs": []
    },
    {
      "cell_type": "code",
      "metadata": {},
      "source": [
        "# Print time series info\n",
        "print(gs.read_command(\"t.info\", \n",
        "                      input=\"lst_monthly_hants\"))"
      ],
      "execution_count": null,
      "outputs": []
    },
    {
      "cell_type": "markdown",
      "metadata": {},
      "source": [
        "Let's see a plot"
      ]
    },
    {
      "cell_type": "code",
      "metadata": {},
      "source": [
        "!g.gui.tplot strds=lst_monthly_hants,lst_monthly \\\n",
        "  coordinates=4410837.455830389,2559852.473498233 \\\n",
        "  title=\"Trento reconstructed LST\" xlabel=\"Time\" ylabel=\"LST (C)\" \\\n",
        "  size=800,500 output=trento_hants.png"
      ],
      "execution_count": null,
      "outputs": []
    },
    {
      "cell_type": "markdown",
      "metadata": {},
      "source": [
        "![HANTS interpolation of LST time series](img/trento_hants.png)\n",
        "\n",
        ":::{.callout-note}\n",
        "r.hants will reconstruct all cells within the input maps, wheter they have gaps\n",
        "or not. If we want to keep the original values, we could patch the original \n",
        "series with the r.hants result. That could be done as follows:"
      ]
    },
    {
      "cell_type": "code",
      "metadata": {},
      "source": [
        "# Patching\n",
        "for i,j in zip(maps,hants_maps):\n",
        "    print(i, j)\n",
        "    out=f\"{j}_patch\"\n",
        "    gs.run_command(\"r.patch\",\n",
        "                   input=[i, j],\n",
        "                   output=out)"
      ],
      "execution_count": null,
      "outputs": []
    },
    {
      "cell_type": "markdown",
      "metadata": {},
      "source": [
        ":::\n",
        "\n",
        ":::{.callout-note}\n",
        "Something important to highlight is that r.hants will fit a single model to\n",
        "the whole input time series. For multiple years, that might not be the best\n",
        "option because there won't be any variation. So, for the case of multiple years,\n",
        "it is recommended to do multiple runs and then temporally patch the results. \n",
        ":::\n",
        "\n",
        "\n",
        "#### Local weighted regression\n",
        "\n",
        "[r.series.lwr](https://grass.osgeo.org/grass-stable/manuals/addons/r.series.lwr.html)\n",
        "performs a local weighted regression (LWR) in time in order to estimate missing\n",
        "values and identify outliers.\n",
        "For each observation in the time series, the neighbor values in time are used \n",
        "to estimate a polynomial function that best fits the observations. The values \n",
        "are weighted according to their distance in time to the current observation. \n",
        "Values that are farther away get lower weights. The difference among the weight\n",
        "functions lies in how strongly the current observation is emphasized with \n",
        "respect to its temporal neighbors.\n",
        "\n",
        "The option order determines the order of the polynomial function used to fit the \n",
        "observations. An order of 0 is a weighted average, an order of 1 is a linear \n",
        "regression. Recommended is order=2.\n",
        "\n",
        "All gaps in the time series are by default interpolated, as long as the time \n",
        "series contains sufficient non-NULL observations. Optionally, the maximum size \n",
        "of gaps to be interpolated can be set with the maxgap option. \n",
        "\n",
        "The module uses an adaptive bandwidth to fit the polynomial and searches for:\n",
        "order + 1 + dod valid values around the current observation. The degree of \n",
        "over-determination (dod) is the user defined number of extra temporal neighbors \n",
        "that should be considered for the estimation of the value at each time step.\n",
        "\n",
        "Just for comparison purposes, we'll use the `lst_monthly` time series. However,\n",
        "r.series.lwr is known to be more effective when there's no such a clear cyclic\n",
        "pattern or in smaller granularities, like daily or weekly, when data shows more\n",
        "variation."
      ]
    },
    {
      "cell_type": "code",
      "metadata": {},
      "source": [
        "# Install extension\n",
        "gs.run_command(\"g.extension\",\n",
        "               extension=\"r.series.lwr\")"
      ],
      "execution_count": null,
      "outputs": []
    },
    {
      "cell_type": "code",
      "metadata": {},
      "source": [
        "# Run r.series.lwr\n",
        "gs.run_command(\"r.series.lwr\",\n",
        "                input=maps,\n",
        "                suffix=\"_lwr\",\n",
        "                order=2,\n",
        "                weight=\"tricube\")"
      ],
      "execution_count": null,
      "outputs": []
    },
    {
      "cell_type": "markdown",
      "metadata": {},
      "source": [
        ":::{.callout-note}\n",
        "Other *r.hants* options and flags that can be used to adjust the fit can be found\n",
        "at the tool manual page: \n",
        "<https://grass.osgeo.org/grass-stable/manuals/addons/r.series.lwr.html>. \n",
        ":::\n",
        "\n",
        "Let's create a time series and plot the results."
      ]
    },
    {
      "cell_type": "code",
      "metadata": {},
      "source": [
        "# List filled maps\n",
        "lwr_maps = gs.list_grouped(type=\"raster\", \n",
        "                           pattern=\"*lwr\")[\"italy_LST_daily\"]"
      ],
      "execution_count": null,
      "outputs": []
    },
    {
      "cell_type": "code",
      "metadata": {},
      "source": [
        "# Ccreate new time series \n",
        "gs.run_command(\"t.create\",\n",
        "               output=\"lst_monthly_lwr\",\n",
        "               type=\"strds\",\n",
        "               temporaltype=\"absolute\",\n",
        "               title=\"Gap-filled monthly LST\",\n",
        "               description=\"LWR gap-filled monthly LST - North Italy, 2014-2018\")"
      ],
      "execution_count": null,
      "outputs": []
    },
    {
      "cell_type": "code",
      "metadata": {},
      "source": [
        "# register maps\n",
        "gs.run_command(\"t.register\",\n",
        "               flags=\"i\",\n",
        "               input=\"lst_monthly_lwr\",\n",
        "               type=\"raster\",\n",
        "               maps=lwr_maps,\n",
        "               start=\"2014-01-01\",\n",
        "               increment=\"1 months\")"
      ],
      "execution_count": null,
      "outputs": []
    },
    {
      "cell_type": "code",
      "metadata": {},
      "source": [
        "# Print time series info\n",
        "print(gs.read_command(\"t.info\", \n",
        "                      input=\"lst_monthly_hants\"))"
      ],
      "execution_count": null,
      "outputs": []
    },
    {
      "cell_type": "code",
      "metadata": {},
      "source": [
        "!g.gui.tplot strds=lst_monthly_lwr,lst_monthly \\\n",
        "  coordinates=4410837.455830389,2559852.473498233 \\\n",
        "  title=\"Trento reconstructed LST\" xlabel=\"Time\" ylabel=\"LST (C)\" \\\n",
        "  size=800,500 output=trento_lwr.png"
      ],
      "execution_count": null,
      "outputs": []
    },
    {
      "cell_type": "markdown",
      "metadata": {},
      "source": [
        "![LWR interpolation of LST time series](img/trento_lwr.png)\n",
        "\n",
        ":::{.callout-note}\n",
        "Note that there's an overshoot towards negative values because of missing data \n",
        "in the first date. Extrapolation can be avoided by using the `i` flag for \n",
        "interpolation only.\n",
        ":::\n",
        "\n",
        "### Comparison of r.hants and r.series.lwr results\n",
        "\n",
        "There are not so significant differences among the results of these two \n",
        "reconstructing methods, probably because it is a smoothed time series. But\n",
        "have a look at a comparison of applying HANTS and LWR to a Chlorophyll-a time\n",
        "series with 8-day granularity:\n",
        "\n",
        "![Chlorophyll data reconstruction with HANTS](https://grasswiki.osgeo.org/w/images/Cla_vs_cla_hants.png){width=80%}\n",
        "![Chlorophyll data reconstruction with LWR](https://grasswiki.osgeo.org/w/images/Cla_vs_cla_lwr.png){width=80%}\n",
        "\n",
        "More details can be found in the [Filling and Reconstructing time series](https://grasswiki.osgeo.org/wiki/Temporal_data_processing#Filling_and_reconstructing_time_series_data_with_gaps) of the temporal data processing wiki page.\n",
        "\n",
        "## References\n"
      ]
    }
  ],
  "metadata": {
    "kernelspec": {
      "name": "python3",
      "language": "python",
      "display_name": "Python 3 (ipykernel)"
    }
  },
  "nbformat": 4,
  "nbformat_minor": 4
}