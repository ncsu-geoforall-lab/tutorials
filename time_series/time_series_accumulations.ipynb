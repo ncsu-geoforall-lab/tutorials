{
  "cells": [
    {
      "cell_type": "raw",
      "metadata": {},
      "source": [
        "---\n",
        "title: Time series accumulations\n",
        "author: Veronica Andreo\n",
        "date: today\n",
        "format:\n",
        "  html:\n",
        "    code-tools: true\n",
        "    code-copy: true\n",
        "    code-fold: false\n",
        "engine: knitr\n",
        "execute:\n",
        "  eval: false\n",
        "  keep-ipynb: true\n",
        "---"
      ]
    },
    {
      "cell_type": "markdown",
      "metadata": {},
      "source": [
        "In this fourth part of the time series tutorials, we will go through data \n",
        "accumulation. We'll mostly follow a modified version of the example \n",
        "presented in the \n",
        "[t.rast.accumulate](https://grass.osgeo.org/grass-stable/manuals/t.rast.accumulate.html) \n",
        "and [t.rast.accdetect](https://grass.osgeo.org/grass-stable/manuals/t.rast.accdetect.html) \n",
        "tools.\n",
        "\n",
        "::: {.callout-note title=\"Setup\"}\n",
        "This tutorial can be run locally or in Google Colab. However, make sure you\n",
        "install GRASS GIS 8.3+, download the LST sample data and set up your project\n",
        "as explained in the [first part](time_series_management_and_visualization.qmd) \n",
        "of these time series tutorials.\n",
        ":::"
      ]
    },
    {
      "cell_type": "code",
      "metadata": {},
      "source": [
        "#| echo: false\n",
        "\n",
        "import os\n",
        "import sys\n",
        "import subprocess\n",
        "\n",
        "# GRASS GIS database variables\n",
        "grassbin = \"grass-dev\"\n",
        "grassdata = os.path.join(os.path.expanduser('~'), \"grassdata\")\n",
        "project = \"eu_laea\"\n",
        "mapset = \"italy_LST_daily\"\n",
        "\n",
        "sys.path.append(\n",
        "    subprocess.check_output([grassbin, \"--config\", \"python_path\"], text=True).strip()\n",
        ")"
      ],
      "execution_count": null,
      "outputs": []
    },
    {
      "cell_type": "code",
      "metadata": {},
      "source": [
        "#| echo: false\n",
        "\n",
        "# Import the GRASS GIS packages we need\n",
        "import grass.script as gs\n",
        "import grass.jupyter as gj\n",
        "\n",
        "# Start the GRASS GIS Session\n",
        "session = gj.init(grassdata, project, mapset);"
      ],
      "execution_count": null,
      "outputs": []
    },
    {
      "cell_type": "markdown",
      "metadata": {},
      "source": [
        "## [t.rast.accumulate](https://grass.osgeo.org/grass-stable/manuals/t.rast.accumulate.html)\n",
        "\n",
        "*t.rast.accumulate* performs temporal accumulations of raster time series. \n",
        "Data accumulations are common in ecology or agriculture, especially temperature\n",
        "accumulation. Usually, to determine if insects or plants can survive in a certain\n",
        "place, a measure of accumulated temperature is used. For example, a certain plant \n",
        "species might need x GDD to bloom, or a mosquito species might need x GDD to \n",
        "complete their development from egg to adult. Therefore, it is usual to accumulate\n",
        "temperature data, but other variables can be accumulated too, e.g. chlorophyll\n",
        "concentration to determine algal bloom occurrences in water bodies.\n",
        "\n",
        "*t.rast.accumulate* expects a STRDS as input that will be sampled by a given \n",
        "granularity. All maps that have the start time during the actual granule will \n",
        "be accumulated with the predecessor granule accumulation result using the raster\n",
        "module r.series.accumulate. The default granularity is 1 day, but any temporal \n",
        "granularity can be set. \n",
        "The start time and the end time of the accumulation process must be set. In \n",
        "addition, a cycle can be specified that defines after which interval of time \n",
        "the accumulation process restarts. The offset option specifies the time that \n",
        "should be skipped between two cycles.\n",
        "\n",
        "The lower and upper limits of the accumulation process can be set, either by \n",
        "using space time raster datasets or by using fixed values for all raster cells\n",
        "and time steps by means of the limits option is used, eg. limits=10,30. The \n",
        "upper limit is only used in the Biologically Effective Degree Days calculation.\n",
        "\n",
        "The output is a new space time raster dataset with the provided start time, \n",
        "end time and granularity containing the accumulated raster maps. \n",
        "\n",
        "\n",
        "### Accumulation using BEDD\n",
        "\n",
        "Let's consider the mosquito *Aedes albopictus*. Adults require a minimum average\n",
        "temperature of 11 °C to survive. We will compute the Biologically Effective \n",
        "Degree Days (BEDD) from 2014 until 2018 for each year with a granularity of \n",
        "one day. \n",
        "The base temperature will be 11°C, and the upper limit 30°C where adult mosquito\n",
        "survival is known to decrease. Hence the accumulation will start at 11°C and stop \n",
        "at 30°C."
      ]
    },
    {
      "cell_type": "code",
      "metadata": {},
      "source": [
        "# Accumulation of degree days\n",
        "gs.run_command(\"t.rast.accumulate\",\n",
        "               input=\"lst_daily\",\n",
        "               output=\"mosq_daily_bedd\",\n",
        "               basename=\"mosq_daily_bedd\",\n",
        "               suffix=\"gran\",\n",
        "               start=\"2014-01-01\",\n",
        "               stop=\"2019-01-01\",\n",
        "               cycle=\"12 months\",\n",
        "               method=\"bedd\", \n",
        "               limits=\"11,30\")"
      ],
      "execution_count": null,
      "outputs": []
    },
    {
      "cell_type": "code",
      "metadata": {},
      "source": [
        "# Get basic info\n",
        "gs.run_command(\"t.info\", input=\"mosq_daily_bedd\")"
      ],
      "execution_count": null,
      "outputs": []
    },
    {
      "cell_type": "markdown",
      "metadata": {},
      "source": [
        "### Suitable areas for mosquitos\n",
        "\n",
        "According to Kobashayi et al (2002), populations of *Aedes albopictus* \n",
        "establish where at least 1350 DD are accumulated. These DD should be reached \n",
        "before Oct 1st to consider a place as suitable. Let's find out when and where \n",
        "that condition is met.\n",
        "\n",
        "We will first discard all cells with BEDD < 1350 from our accumulated time \n",
        "series, and then we will save the day of the year (DOY) where BEDD >=\n",
        "1350. "
      ]
    },
    {
      "cell_type": "code",
      "metadata": {},
      "source": [
        "exp=\"doy_bedd_higher_1350 = if(mosq_daily_bedd >= 1350, start_doy(mosq_daily_bedd, 0), null())\"\n",
        "\n",
        "gs.run_command(\"t.rast.algebra\",\n",
        "               expression=exp,\n",
        "               basename=\"doy_bedd_higher_1350\",\n",
        "               suffix=\"gran\",\n",
        "               nprocs=6)"
      ],
      "execution_count": null,
      "outputs": []
    },
    {
      "cell_type": "markdown",
      "metadata": {},
      "source": [
        "Then, we aggregate the `doy_bedd_higher_1350` STRDS on an annual basis, as we want \n",
        "to see possible changes among years. We use `method=minimum` to get the earliest\n",
        "day on which the condition is met each year."
      ]
    },
    {
      "cell_type": "code",
      "metadata": {},
      "source": [
        "gs.run_command(\"t.rast.aggregate\",\n",
        "               input=\"doy_bedd_higher_1350\",\n",
        "               method=\"minimum\",\n",
        "               granularity=\"1 year\",\n",
        "               output=\"annual_doy_bedd_higher_1350\",\n",
        "               basename=\"annual_doy_bedd_higher_1350\",\n",
        "               suffix=\"gran\",\n",
        "               nprocs=6)"
      ],
      "execution_count": null,
      "outputs": []
    },
    {
      "cell_type": "code",
      "metadata": {},
      "source": [
        "gs.run_command(\"t.rast.list\",\n",
        "                input=\"annual_doy_bedd_higher_1350\",\n",
        "                columns=\"id,min,max\")"
      ],
      "execution_count": null,
      "outputs": []
    },
    {
      "cell_type": "markdown",
      "metadata": {},
      "source": [
        "Following Neteler et al (2015), if the 1350 DD are achieved on or before August \n",
        "1st, a place is considered highly suitable for *Aedes albopictus*, while if the\n",
        "condition is met after October 1st, the place is not suitable. \n",
        "Everything in between is defined as a linear function of DOY. Once again, we use\n",
        "the temporal algebra to create yearly suitability maps. Note we are using a \n",
        "nested if statement."
      ]
    },
    {
      "cell_type": "code",
      "metadata": {},
      "source": [
        "expression=\"suitability = if(annual_doy_bedd_higher_1350 <= 214, 1, if(annual_doy_bedd_higher_1350 > 214 && annual_doy_bedd_higher_1350 <= 274, (274 - annual_doy_bedd_higher_1350)/60.0, if(annual_doy_bedd_higher_1350 > 274, 0)))\"\n",
        "\n",
        "gs.run_command(\"t.rast.algebra\",\n",
        "               expression=expression,\n",
        "               basename=\"suitability\",\n",
        "               suffix=\"gran\",\n",
        "               nprocs=6)"
      ],
      "execution_count": null,
      "outputs": []
    },
    {
      "cell_type": "markdown",
      "metadata": {},
      "source": [
        "Let's see how suitable area and suitability values change with time by means of \n",
        "an animation."
      ]
    },
    {
      "cell_type": "code",
      "metadata": {},
      "source": [
        "# Animation of annual anomalies\n",
        "suitability = gj.TimeSeriesMap(use_region=True)\n",
        "suitability.add_raster_series(\"suitability\", fill_gaps=False)\n",
        "suitability.d_legend(color=\"black\", at=(10,40,2,6))\n",
        "suitability.show()"
      ],
      "execution_count": null,
      "outputs": []
    },
    {
      "cell_type": "markdown",
      "metadata": {},
      "source": [
        "Impressive, ah? Let's do some basic math to quantify the suitable area increase\n",
        "from 2014 to 2018. We use `r.univar` to get the number of non-null cells in each\n",
        "map."
      ]
    },
    {
      "cell_type": "code",
      "metadata": {},
      "source": [
        "land_cells = gs.parse_command(\"r.univar\", map=\"lst_2014.001_avg\", flags=\"g\")['n']\n",
        "suit_2014 = gs.parse_command(\"r.univar\", map=\"suitability_2014\", flags=\"g\")['n']\n",
        "suit_2018 = gs.parse_command(\"r.univar\", map=\"suitability_2018\", flags=\"g\")['n']\n",
        "change = ((float(suit_2018) - float(suit_2014))/float(land_cells))*100.0\n",
        "print(f\"The increase in suitable area was {change}\")"
      ],
      "execution_count": null,
      "outputs": []
    },
    {
      "cell_type": "markdown",
      "metadata": {},
      "source": [
        "## [t.rast.accdetect](https://grass.osgeo.org/grass-stable/manuals/t.rast.accdetect.html)\n",
        "\n",
        "*t.rast.accdetect* is used to detect accumulation patterns in temporally \n",
        "accumulated STDRS created by t.rast.accumulate. The start and end time do not \n",
        "need to be the same but the cycle and offset options must be exactly the same \n",
        "that were used in the accumulation process that generated the input STRDS.\n",
        "Minimum and maximum values for pattern detection can be set either by using \n",
        "STRDS or fixed values for all raster cells and time steps (range option).\n",
        "\n",
        "Using STRDS would allow specifying minimum and maximum values for each raster \n",
        "cell and each time step. For example, if you want to detect the germination \n",
        "(minimum value) and harvesting (maximum value) dates for different crops using\n",
        "the growing-degree-day (GDD) method for several years. Different crops may \n",
        "grow in different raster cells and change with time because of crop rotation. \n",
        "Hence we need to specify different GDD germination/harvesting (minimum/maximum) \n",
        "values for different raster cells and different years.\n",
        "\n",
        "*t.rast.accdetect* produces two output STRDS: \n",
        "\n",
        "- **occurrence**: The occurrence STRDS stores the time in days from the beginning of a given cycle for each raster. These values can be used to compute the duration of the recognized accumulation pattern.\n",
        "- **indicator**: The indicator STRDS uses three integer values to mark raster cells as beginning (1), intermediate (2) state or end (3) of an accumulation pattern. These values can be used to identify places with complete cycles.\n",
        "\n",
        "\n",
        "### Detection of mosquito generations\n",
        "\n",
        "Following Kobashayi et al (2002), each mosquito generation might take around\n",
        "365 DD. Let's use this reference value to identify how many mosquito \n",
        "generations we could expect over our study area. "
      ]
    },
    {
      "cell_type": "code",
      "metadata": {},
      "source": [
        "cycle = list(range(1, 10))\n",
        "cycle_beg = list(range(1, 3286, 365))\n",
        "cycle_end = list(range(365, 3286, 365))\n",
        "\n",
        "for i in range(1, len(cycle) + 1):\n",
        "  \n",
        "    print(f\"cycle: {cycle[i-1]} - {cycle_beg[i-1]} {cycle_end[i-1]}\")\n",
        "    \n",
        "    # Identify generations\n",
        "    gs.run_command(\"t.rast.accdetect\",\n",
        "                    input=\"mosq_daily_bedd\",\n",
        "                    occurrence=f\"mosq_occurrence_gen_{cycle[i-1]}\",\n",
        "                    indicator=f\"mosq_indicator_gen_{cycle[i-1]}\",\n",
        "                    basename=f\"mosq_gen_{cycle[i-1]}\",\n",
        "                    start=\"2014-01-01\",\n",
        "                    stop=\"2019-01-01\",\n",
        "                    cycle=\"12 months\",\n",
        "                    range=f\"{cycle_beg[i-1]},{cycle_end[i-1]}\")\n",
        "                      \n",
        "    gs.run_command(\"t.rast.aggregate\",\n",
        "                    input=f\"mosq_indicator_gen_{cycle[i-1]}\",\n",
        "                    output=f\"mosq_gen{cycle[i-1]}_yearly\",\n",
        "                    basename=f\"mosq_gen{cycle[i-1]}_yearly\",\n",
        "                    granularity=\"1 year\",\n",
        "                    method=\"maximum\", \n",
        "                    suffix=\"gran\")\n",
        "\n",
        "    # Keep only complete generations\n",
        "    exp=f\"if(mosq_gen{cycle[i-1]}_yearly == 3, {cycle[i-1]}, null())\"\n",
        "    gs.run_command(\"t.rast.mapcalc\",\n",
        "                    input=f\"mosq_gen{cycle[i-1]}_yearly\",\n",
        "                    output=f\"mosq_gen{cycle[i-1]}_yearly_clean\",\n",
        "                    basename=f\"mosq_clean_gen{cycle[i-1]}\",\n",
        "                    expression=exp)\n",
        "  \n",
        "    # Duration of each mosquito generation\n",
        "    # Beginning\n",
        "    gs.run_command(\"t.rast.aggregate\",\n",
        "                    input=f\"mosq_occurrence_gen_{cycle[i-1]}\",\n",
        "                    output=f\"mosq_min_day_gen{cycle[i-1]}\",\n",
        "                    basename=f\"occ_min_day_gen{cycle[i-1]}\",\n",
        "                    method=\"minimum\",\n",
        "                    granularity=\"1 year\",\n",
        "                    suffix=\"gran\")\n",
        "    # End\n",
        "    gs.run_command(\"t.rast.aggregate\",\n",
        "                    input=f\"mosq_occurrence_gen_{cycle[i-1]}\", \n",
        "                    output=f\"mosq_max_day_gen{cycle[i-1]}\",\n",
        "                    basename=f\"occ_max_day_gen{cycle[i-1]}\",\n",
        "                    method=\"maximum\",\n",
        "                    granularity=\"1 year\",\n",
        "                    suffix=\"gran\")\n",
        "    # Difference\n",
        "    exp=f\"mosq_max_day_gen${cycle[$i-1]} - mosq_min_day_gen${cycle[$i-1]} + 1\"\n",
        "    gs.run_command(\"t.rast.mapcalc\",\n",
        "                    input=f\"mosq_min_day_gen{cycle[i-1]},mosq_max_day_gen{cycle[i-1]}\",\n",
        "                    output=f\"mosq_duration_gen{cycle[i-1]}\", \n",
        "                    basename=f\"mosq_duration_gen{cycle[i-1]}\",\n",
        "                    expression=exp)"
      ],
      "execution_count": null,
      "outputs": []
    },
    {
      "cell_type": "markdown",
      "metadata": {},
      "source": [
        "Let's now see which is the maximum number of generations in each cell and their \n",
        "median duration per year.\n",
        "\n",
        "### Maximum number of generations per year"
      ]
    },
    {
      "cell_type": "code",
      "metadata": {},
      "source": [
        "for i in range(1, 6):\n",
        "    maps = gs.list_grouped(type=\"raster\", pattern=f\"mosq_clean_gen*_{i}\")\n",
        "    gs.run_command(\"r.series\",\n",
        "                    input=maps,\n",
        "                    output=f\"mosq_max_n_generations_{i}\",\n",
        "                    method=\"maximum\")"
      ],
      "execution_count": null,
      "outputs": []
    },
    {
      "cell_type": "markdown",
      "metadata": {},
      "source": [
        "Let's see an animation:"
      ]
    },
    {
      "cell_type": "code",
      "metadata": {},
      "source": [
        "# List of average maps\n",
        "map_list = gs.list_grouped(type=\"raster\", pattern=\"mosq_max_n_generations_*\")\n",
        "\n",
        "# Animation with SeriesMap class\n",
        "series = gj.SeriesMap(height = 500)\n",
        "series.add_rasters(map_list)\n",
        "series.d_barscale()\n",
        "series.show()"
      ],
      "execution_count": null,
      "outputs": []
    },
    {
      "cell_type": "markdown",
      "metadata": {},
      "source": [
        "### Median duration of mosquito generations per year"
      ]
    },
    {
      "cell_type": "code",
      "metadata": {},
      "source": [
        "for i in range(1, 6):\n",
        "    maps = gs.list_grouped(type=\"raster\", pattern=f\"mosq_duration_gen*_{i}\")\n",
        "    gs.run_command(\"r.series\",\n",
        "                    input=maps,\n",
        "                    output=f\"mosq_med_duration_generations_{i}\",\n",
        "                    method=\"median\")"
      ],
      "execution_count": null,
      "outputs": []
    },
    {
      "cell_type": "markdown",
      "metadata": {},
      "source": [
        "Let's see an animation:"
      ]
    },
    {
      "cell_type": "code",
      "metadata": {},
      "source": [
        "# List of average maps\n",
        "map_list = gs.list_grouped(type=\"raster\", pattern=\"mosq_med_duration_generations_*\")\n",
        "\n",
        "# Animation with SeriesMap class\n",
        "series = gj.SeriesMap(height = 500)\n",
        "series.add_rasters(map_list)\n",
        "series.d_barscale()\n",
        "series.show()"
      ],
      "execution_count": null,
      "outputs": []
    },
    {
      "cell_type": "markdown",
      "metadata": {},
      "source": [
        "We can now remove all intermediate series and maps:"
      ]
    },
    {
      "cell_type": "code",
      "metadata": {},
      "source": [
        "gs.run_command(\"t.list\", \n",
        "                type=\"strds\", \n",
        "                where=\"name LIKE '%gen%'\", \n",
        "                output=\"to_remove.txt\")\n",
        "gs.run_command(\"t.remove\", \n",
        "                flags=\"rfd\", \n",
        "                file=\"to_remove.txt\")"
      ],
      "execution_count": null,
      "outputs": []
    },
    {
      "cell_type": "markdown",
      "metadata": {},
      "source": [
        "## References\n"
      ]
    }
  ],
  "metadata": {
    "kernelspec": {
      "name": "python3",
      "language": "python",
      "display_name": "Python 3 (ipykernel)"
    }
  },
  "nbformat": 4,
  "nbformat_minor": 4
}