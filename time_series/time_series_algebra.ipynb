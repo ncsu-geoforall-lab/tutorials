{
  "cells": [
    {
      "cell_type": "raw",
      "metadata": {},
      "source": [
        "---\n",
        "title: Time series algebra\n",
        "author: Verónica Andreo\n",
        "date: today\n",
        "format:\n",
        "  html:\n",
        "    code-tools: true\n",
        "    code-copy: true\n",
        "    code-fold: false\n",
        "engine: knitr\n",
        "execute:\n",
        "  eval: false\n",
        "  keep-ipynb: true\n",
        "---"
      ]
    },
    {
      "cell_type": "markdown",
      "metadata": {},
      "source": [
        "In this third part of the time series tutorials, we will go through different \n",
        "temporal algebra examples. There are five modules within the temporal framework\n",
        "that allow us to perform temporal map algebra on different types of data: \n",
        "[t.rast.mapcalc](https://grass.osgeo.org/grass-stable/manuals/t.rast.mapcalc.html), \n",
        "[t.rast.algebra](https://grass.osgeo.org/grass-stable/manuals/t.rast.algebra.html), \n",
        "[t.rast3d.mapcalc](https://grass.osgeo.org/grass-stable/manuals/t.rast3d.mapcalc.html),\n",
        "[t.rast3d.algebra](https://grass.osgeo.org/grass-stable/manuals/t.rast3d.algebra.html), and \n",
        "[t.vect.algebra](https://grass.osgeo.org/grass-stable/manuals/t.vect.algebra.html). \n",
        "We will focus on the raster oriented tools in this tutorial. \n",
        "\n",
        "::: {.callout-note title=\"Setup\"}\n",
        "This tutorial can be run locally or in Google Colab. However, make sure you\n",
        "install GRASS GIS 8.3+, download the LST sample data and set up your project\n",
        "as explained in the [first part](time_series_management_and_visualization.qmd) \n",
        "of these time series tutorials.\n",
        ":::\n",
        "\n",
        "\n",
        "## [t.rast.mapcalc](https://grass.osgeo.org/grass-stable/manuals/t.rast.mapcalc.html) vs [t.rast.algebra](https://grass.osgeo.org/grass-stable/manuals/t.rast.algebra.html)\n",
        "\n",
        "Both tools allow us to perform spatio-temporal operations on temporally sampled\n",
        "maps of raster time series (STRDS). Also, both tools support spatial and \n",
        "temporal functions. \n",
        "Spatial operators and functions are those used in \n",
        "[r.mapcalc](https://grass.osgeo.org/grass-stable/manuals/r.mapcalc.html). \n",
        "Temporal internal variables supported for both relative and absolute time \n",
        "include: `td()` (time delta), `start_time()` and `end_time()`. \n",
        "There are also several useful internal temporal variables supported especially \n",
        "for absolute time, e.g.: `start_doy()`, `start_year()`, `start_month()` and\n",
        "so on.\n",
        "\n",
        "Both *t.rast.mapcalc* and *t.rast.algebra* support temporal operations. However, \n",
        "only *t.rast.algebra* is effectively temporally aware; *t.rast.mapcalc* \n",
        "is mostly a wrapper around *r.mapcalc*. Indeed, t.rast.algebra is able to \n",
        "perform a wide range of temporal operations based on the temporal topology \n",
        "of maps within STRDS. Supported operators, relations and functions in\n",
        "t.rast.algebra include:\n",
        "\n",
        "- Temporal operators: union (`u`), intersection (`i`), left reference (`l`), etc.\n",
        "- Temporal relations: `equals`, `during`, `contains`, `starts`, etc.\n",
        "- Temporal selection: `:` and `!:`.\n",
        "- Temporal functions: `td()`, `start_time()`, `start_doy()`, `#`, `tmap()`, `map()`, `t_snap()`, `buff_t()`, `t_shift()`, etc.\n",
        "- Temporal neighborhood modifier: `[x,y,t]`.\n",
        "- Spatial operators: `+`,`-`,`*`,`/`,`%`.\n",
        "- Spatial functions: `abs(x)`, `float(x)`, `int(x)`, `log(x)`, `round(x)`, `isnull(x)`,`null()`, among others.\n",
        "\n",
        "They can all be combined in nested expressions with conditions statements \n",
        "to create spatio-temporal operators! In general, expressions have the following \n",
        "structure:\n",
        "`{\"spatial or select operator\", \"temporal relations\", \"temporal operator\"}` \n",
        "and they can be combined with conditional statements such as:\n",
        "`if(topologies, conditions, A, B)` where A and B can be either space time \n",
        "datasets or expressions (e.g., A+B). Just for illustration purposes, let's see\n",
        "some examples from the manual page:\n",
        "\n",
        "- `C = A {+,equal,l} B`: C will have the same time stamps than A and will be A+B for all maps with equal time stamps among A and B, this is equivalent to `C = A + B`, i.e., *equal* is the default temporal relation for algebra operations and *left reference* is the default temporal operator. \n",
        "- `C = if(start_date(A) < \"2005-01-01\", A + B)`: C will be A+B if the start date of A is earlier than Jan 1st, 2005 (if, then statement).\n",
        "- `C = if({equal}, A > 100 && A < 1600 {&&,equal} td(A) > 30, B)`: C will have all cells from  B with equal temporal relations to A, if the cells of A are in the range (100.0, 1600) of time intervals that have more than 30 time units. This is equivalent to `C = if(A > 100 && A < 1600 && td(A) > 30, B)`.\n",
        "- `C = A {:, during} tmap(event)`: C will contain all maps from A that are during the temporal extent of the single map 'event'.\n",
        "- `C = A * map(constant_value)`: C will contain all raster maps from A multiplied by the raster map 'constant_value' (a map without time stamp).\n",
        "- `B = if(A > 0.0 && A[-1] > 0.0 && A[-2] > 0.0, start_doy(A, 0), 0)`: B will have the DOY for all maps from A where conditions are met at three consecutive time intervals, otherwise put 0.\n",
        "\n",
        "\n",
        "Let's see some examples using the LST daily time series from northern Italy. We\n",
        "start with something simple to also refresh what we learnt in the previous\n",
        "tutorial about aggregations.\n",
        "\n",
        "<!-- \n",
        "t.rast.mapcalc input=tempmean_monthly output=january_under_0 basename=january_under_0 \\\n",
        "expression=\"if(start_month() == 1 && tempmean_monthly > 0, null(), tempmean_monthly)\" \n",
        "-->\n",
        "\n",
        "### Anomalies\n",
        "\n",
        "To estimate annual anomalies, we need the long term average and standard \n",
        "deviation of the whole series, and the annual averages. Then, we estimate\n",
        "the standardized anomalies as:\n",
        "\n",
        "$$\n",
        "StdAnom_i = \\frac{Avg_i - Avg}{SD}\n",
        "$$\n",
        "\n",
        "Let's first obtain the average and standard deviation for the series:"
      ]
    },
    {
      "cell_type": "code",
      "metadata": {},
      "source": [
        "# Get general average and SD\n",
        "methods=[\"average\",\"stddev\"]\n",
        "\n",
        "for me in methods:\n",
        "    gs.run_command(\"t.rast.series\",\n",
        "                   input=\"lst_daily\",\n",
        "                   method=me,\n",
        "                   output=f\"lst_{me}\")"
      ],
      "execution_count": null,
      "outputs": []
    },
    {
      "cell_type": "markdown",
      "metadata": {},
      "source": [
        "and then the annual LST average:"
      ]
    },
    {
      "cell_type": "code",
      "metadata": {},
      "source": [
        "# Get annual averages\n",
        "gs.run_command(\"t.rast.aggregate\",\n",
        "               input=\"lst_daily\",\n",
        "               method=\"average\",\n",
        "               granularity=\"1 years\",\n",
        "               output=\"lst_annual_average\",\n",
        "               basename=\"lst_average\",\n",
        "               suffix=\"gran\",\n",
        "               nprocs=6)"
      ],
      "execution_count": null,
      "outputs": []
    },
    {
      "cell_type": "markdown",
      "metadata": {},
      "source": [
        "We now use t.rast.algebra to estimate the anomalies."
      ]
    },
    {
      "cell_type": "code",
      "metadata": {},
      "source": [
        "# Estimate annual anomalies\n",
        "expression=\"lst_annual_anomaly = (lst_annual_average - map(lst_average)) / map(lst_stddev)\"\n",
        "\n",
        "gs.run_command(\"t.rast.algebra\",\n",
        "               expression=expression,\n",
        "               basename=\"lst_annual_anomaly\",\n",
        "               suffix=\"gran\",\n",
        "               nprocs=6)"
      ],
      "execution_count": null,
      "outputs": []
    },
    {
      "cell_type": "markdown",
      "metadata": {},
      "source": [
        "We set the *differences* color palette and then create an animation. "
      ]
    },
    {
      "cell_type": "code",
      "metadata": {},
      "source": [
        "# Set difference color table\n",
        "gs.run_command(\"t.rast.colors\",\n",
        "               input=\"lst_annual_anomaly\",\n",
        "               color=\"difference\")"
      ],
      "execution_count": null,
      "outputs": []
    },
    {
      "cell_type": "code",
      "metadata": {},
      "source": [
        "# Animation of annual anomalies\n",
        "anomalies = gj.TimeSeriesMap(use_region=True)\n",
        "anomalies.add_raster_series(\"lst_annual_anomaly\", fill_gaps=False)\n",
        "anomalies.d_legend(color=\"black\", at=(10,40,2,6))\n",
        "anomalies.show()"
      ],
      "execution_count": null,
      "outputs": []
    },
    {
      "cell_type": "markdown",
      "metadata": {},
      "source": [
        "### Month with maximum LST\n",
        "\n",
        "We will use `t.rast.mapcalc` to obtain the month when the maximum LST occurred\n",
        "during our study period. We already estimated the map with the maximum LST\n",
        "in the previous tutorial, but let's refresh our memories:"
      ]
    },
    {
      "cell_type": "code",
      "metadata": {},
      "source": [
        "gs.run_command(\"t.rast.series\",\n",
        "               input=\"lst_daily\",\n",
        "               output=f\"lst_maximum\",\n",
        "               method=\"maximum\",\n",
        "               nprocs=4)"
      ],
      "execution_count": null,
      "outputs": []
    },
    {
      "cell_type": "markdown",
      "metadata": {},
      "source": [
        "Then, we use t.rast.mapcalc to compare all maps in lst_daily with the lst_maximum\n",
        "map and save the month only when there's a match. The result will probably be a\n",
        "very sparse time series."
      ]
    },
    {
      "cell_type": "code",
      "metadata": {},
      "source": [
        "# Get time series with month of maximum LST\n",
        "expression=\"if(lst_daily == lst_maximum, start_month(), null())\"\n",
        "\n",
        "gs.run_command(\"t.rast.mapcalc\",\n",
        "               flags=\"n\", # register also null maps\n",
        "               inputs=\"lst_daily\",\n",
        "               output=\"month_max_lst\",\n",
        "               basename=\"month_max_lst\",\n",
        "               expression=expression,\n",
        "               nprocs=6)"
      ],
      "execution_count": null,
      "outputs": []
    },
    {
      "cell_type": "code",
      "metadata": {},
      "source": [
        "# Get basic info\n",
        "print(gs.read_command(\"t.info\", \n",
        "                      input=\"month_min_lst\"))"
      ],
      "execution_count": null,
      "outputs": []
    },
    {
      "cell_type": "markdown",
      "metadata": {},
      "source": [
        "Now we can aggregate our sparse time series to obtain the earliest month in \n",
        "which the maximum LST occurred."
      ]
    },
    {
      "cell_type": "code",
      "metadata": {},
      "source": [
        "# Get the earliest month in which the maximum appeared (method=minimum)\n",
        "gs.run_command(\"t.rast.series\",\n",
        "               input=\"month_max_lst\",\n",
        "               method=\"minimum\",\n",
        "               output=\"max_lst_date\")"
      ],
      "execution_count": null,
      "outputs": []
    },
    {
      "cell_type": "markdown",
      "metadata": {},
      "source": [
        "Remover la STRDS intermedia y los mapas que contiene:"
      ]
    },
    {
      "cell_type": "code",
      "metadata": {},
      "source": [
        "# Remove month_max_lst strds; we were only interested in the resulting aggregated map\n",
        "gs.run_command(\"t.remove\",\n",
        "               flags=\"rfd\", # recursive, force, delete\n",
        "               inputs=\"month_max_lst\")\n",
        "               \n",
        "# Check it's gone\n",
        "print(gs.read_command(\"t.list\"))"
      ],
      "execution_count": null,
      "outputs": []
    },
    {
      "cell_type": "markdown",
      "metadata": {},
      "source": [
        "Let's display the result using the `Map` class from `grass.jupyter` package:"
      ]
    },
    {
      "cell_type": "code",
      "metadata": {},
      "source": [
        "mm = gj.Map(width=450, use_region=True)\n",
        "mm.d_rast(map=\"max_lst_date\")\n",
        "mm.d_vect(map=\"italy\", type=\"boundary\", color=\"#4D4D4D\", width=2)\n",
        "mm.d_legend(raster=\"max_lst_date\", title=\"Month\", fontsize=10, at=(2,15,2,10))\n",
        "mm.d_barscale(length=50, units=\"kilometers\", segment=4, fontsize=14, at=(73,7))\n",
        "mm.d_northarrow(at=(90,15))\n",
        "mm.d_text(text=\"Month of maximum LST\", color=\"black\", font=\"sans\", size=4, bgcolor=\"white\")\n",
        "mm.show()"
      ],
      "execution_count": null,
      "outputs": []
    },
    {
      "cell_type": "markdown",
      "metadata": {},
      "source": [
        "::: {.callout-note}\n",
        "How could we have done the same in one single step? \n",
        "Hint: `t.rast.algebra ... method=during`."
      ]
    },
    {
      "cell_type": "code",
      "metadata": {},
      "source": [
        "# Get time series with month of maximum LST\n",
        "expression=\"month_max_lst = if({during}, lst_daily == tmap(lst_maximum), start_month(), null())\"\n",
        "\n",
        "gs.run_command(\"t.rast.algebra\",\n",
        "               basename=\"month_max_lst\",\n",
        "               expression=expression,\n",
        "               suffix=\"gran\",\n",
        "               nprocs=6)"
      ],
      "execution_count": null,
      "outputs": []
    },
    {
      "cell_type": "markdown",
      "metadata": {},
      "source": [
        "Is it really the same?"
      ]
    },
    {
      "cell_type": "code",
      "metadata": {},
      "source": [
        "expression=\"result = max_lst_date - month_max_lst\"\n",
        "gs.rast_mapcalc(exp=expression)\n",
        "gs.raster_info(\"result\")"
      ],
      "execution_count": null,
      "outputs": []
    },
    {
      "cell_type": "markdown",
      "metadata": {},
      "source": [
        ":::\n",
        "\n",
        "\n",
        ":::{.callout-caution}\n",
        "What if we are interested in knowing the week number in which the annual maximum \n",
        "LST occurs each year? How would you do that? Can we also know if there's any \n",
        "trend in the week number? i.e., does it tend to happen earlier or later?"
      ]
    },
    {
      "cell_type": "code",
      "metadata": {},
      "source": [
        "# Estimate annual max LST\n",
        "!t.rast.aggregate input=lst_daily output=lst_max_annual basename=lst_max method=maximum granularity=\"1 years\" suffix=gran\n",
        "\n",
        "# Week number\n",
        "!t.rast.algebra expression=\"week_lst_max_annual = if({contains}, lst_max_annual == lst_daily, start_week(lst_daily))\" basename=week_lst_max_annual suffix=gran \n",
        "\n",
        "# Is there a trend?\n",
        "!t.rast.series input=week_lst_max_annual method=slope output=slope_week_lst_max_annual"
      ],
      "execution_count": null,
      "outputs": []
    },
    {
      "cell_type": "markdown",
      "metadata": {},
      "source": [
        ":::\n",
        "\n",
        "\n",
        "### Number of days with LST >= 20 and <= 30\n",
        "\n",
        "Some plague insects tend to thrive in a certain range of temperatures. Let's \n",
        "assume this range is from 20 to 30 °C. Here, we'll estimate the number of days \n",
        "within this range per year, and then, we'll estimate the median along years."
      ]
    },
    {
      "cell_type": "code",
      "metadata": {
        "message": false,
        "results": "hide"
      },
      "source": [
        "#| warning: false\n",
        "\n",
        "# Keep only pixels meeting the condition\n",
        "expression=\"lst_higher20_lower30 = if(lst_daily >= 20.0 && lst_daily <= 30.0, 1, null())\"\n",
        "\n",
        "gs.run_command(\"t.rast.algebra\",\n",
        "               expression=expression, \n",
        "               basename=\"lst_higher20_lower30\",\n",
        "               suffix=\"gran\",\n",
        "               nproc=6, \n",
        "               flags=\"n\")"
      ],
      "execution_count": null,
      "outputs": []
    },
    {
      "cell_type": "code",
      "metadata": {},
      "source": [
        "# Count how many times per year the condition is met\n",
        "gs.run_command(\"t.rast.aggregate\",\n",
        "               input=\"lst_higher20_lower30\", \n",
        "               output=\"count_lst_higher20_lower30\",\n",
        "               basename=\"count_lst_higher20_lower30\",\n",
        "               suffix=\"gran\",\n",
        "               method=\"count\",\n",
        "               granularity=\"1 years\")"
      ],
      "execution_count": null,
      "outputs": []
    },
    {
      "cell_type": "code",
      "metadata": {},
      "source": [
        "# Check raster maps in the STRDS\n",
        "gs.run_command(\"t.rast.list\", \n",
        "               input=\"count_lst_higher20_lower30\", \n",
        "               columns=\"name,start_time,min,max\")"
      ],
      "execution_count": null,
      "outputs": []
    },
    {
      "cell_type": "code",
      "metadata": {},
      "source": [
        "# Median number of days with average lst >= 20 and <= 30\n",
        "gs.run_command(\"t.rast.series\",\n",
        "               input=\"count_tmean_higher20_lower30\",\n",
        "               output=\"median_count_tmean_higher20_lower30\",\n",
        "               method=\"median\")"
      ],
      "execution_count": null,
      "outputs": []
    },
    {
      "cell_type": "code",
      "metadata": {},
      "source": [
        "# Display raster map with interactive class\n",
        "h20_map = gj.InteractiveMap(width = 500, use_region=True)\n",
        "h20_map.add_raster(\"median_count_tmean_higher20_lower30\")\n",
        "h20_map.add_layer_control(position = \"bottomright\")\n",
        "h20_map.show()"
      ],
      "execution_count": null,
      "outputs": []
    },
    {
      "cell_type": "markdown",
      "metadata": {},
      "source": [
        "::: {.callout-note}\n",
        "How would you check if the median number of days with lst >= 20 and <= 30 \n",
        "is changing along the years?\n",
        ":::\n",
        "\n",
        "### Number of consecutive days with LST <= -10.0\n",
        "\n",
        "Likewise, there are temperature thresholds that mark a limit to insects survival.\n",
        "Here, we'll use the lower temperature threshold to survival. Most importantly, \n",
        "we we'll count the number of consecutive days with temperatures below this \n",
        "threshold.\n",
        "\n",
        "Here, we'll use again the temporal algebra and we'll recall the concept of \n",
        "topology that we defined at the beginning of these tutorials. First, we need to \n",
        "create a STRDS of annual granularity that will contain only zeroes. This annual \n",
        "STRDS, that we call `annual_mask`, will be the base to add the value 1 each time\n",
        "the condition of less than -10 °C in consecutive days is met. Finally, we \n",
        "estimate the median number of days with LST lower than -10 °C over the 5 years."
      ]
    },
    {
      "cell_type": "code",
      "metadata": {},
      "source": [
        "# Create annual mask\n",
        "gs.run_command(\"t.rast.aggregate\",\n",
        "               input=\"lst_daily\",\n",
        "               output=\"annual_mask\",\n",
        "               basename=\"annual_mask\",\n",
        "               suffix=\"gran\",\n",
        "               granularity=\"1 year\",\n",
        "               method=\"count\")"
      ],
      "execution_count": null,
      "outputs": []
    },
    {
      "cell_type": "code",
      "metadata": {},
      "source": [
        "# Replace values by zero\n",
        "expression=\"if(annual_mask, 0)\"\n",
        "\n",
        "gs.run_command(\"t.rast.mapcalc\",\n",
        "               input=\"annual_mask\",\n",
        "               output=\"annual_mask_0\",\n",
        "               expression=expression,\n",
        "               basename=\"annual_mask_0\")"
      ],
      "execution_count": null,
      "outputs": []
    },
    {
      "cell_type": "code",
      "metadata": {
        "message": false,
        "results": "hide"
      },
      "source": [
        "#| warning: false\n",
        "\n",
        "# Calculate consecutive days with LST <= -10.0\n",
        "expression=\"lower_m10_consec_days = annual_mask_0 {+,contains,l} if(lst_daily <= -10.0 && lst_daily[-1] <= -10.0 || lst_daily[1] <= -10.0 && lst_daily <= -10.0, 1, 0)\"\n",
        "\n",
        "gs.run_command(\"t.rast.algebra\",\n",
        "               expression=expression,\n",
        "               basename=\"lower_m10\",\n",
        "               suffix=\"gran\",\n",
        "               nproc=7)"
      ],
      "execution_count": null,
      "outputs": []
    },
    {
      "cell_type": "code",
      "metadata": {},
      "source": [
        "# Inspect values\n",
        "gs.run_command(\"t.rast.list\",\n",
        "               input=\"lower_m10_consec_days\",\n",
        "               columns=\"name,start_time,min,max\")"
      ],
      "execution_count": null,
      "outputs": []
    },
    {
      "cell_type": "code",
      "metadata": {},
      "source": [
        "# Median number of consecutive days with LST <= -10\n",
        "gs.run_command(\"t.rast.series\",\n",
        "               input=\"lower_m10_consec_days\",\n",
        "               output=\"median_lower_m10_consec_days\",\n",
        "               method=\"median\")"
      ],
      "execution_count": null,
      "outputs": []
    },
    {
      "cell_type": "code",
      "metadata": {},
      "source": [
        "# Display raster map with interactive class\n",
        "lt10_map = gj.InteractiveMap(width = 500, use_region=True)\n",
        "lt10_map.add_raster(\"median_lower_m10_consec_days\")\n",
        "lt10_map.add_layer_control(position = \"bottomright\")\n",
        "lt10_map.show()"
      ],
      "execution_count": null,
      "outputs": []
    },
    {
      "cell_type": "markdown",
      "metadata": {},
      "source": [
        "## References\n"
      ]
    }
  ],
  "metadata": {
    "kernelspec": {
      "name": "python3",
      "language": "python",
      "display_name": "Python 3 (ipykernel)"
    }
  },
  "nbformat": 4,
  "nbformat_minor": 4
}