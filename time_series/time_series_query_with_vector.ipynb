{
  "cells": [
    {
      "cell_type": "raw",
      "metadata": {},
      "source": [
        "---\n",
        "title: Time series querying\n",
        "author: Veronica Andreo\n",
        "date: today\n",
        "format:\n",
        "  html:\n",
        "    code-tools: true\n",
        "    code-copy: true\n",
        "    code-fold: false\n",
        "engine: knitr\n",
        "execute:\n",
        "  eval: false\n",
        "  keep-ipynb: true\n",
        "editor:\n",
        "  markdown:\n",
        "    wrap: 80\n",
        "---"
      ]
    },
    {
      "cell_type": "markdown",
      "metadata": {},
      "source": [
        "In this sixth part of the time series tutorials, we will go through time series\n",
        "querying and compare and contrast the different tools available according to\n",
        "input, output and other options. We will split tools into two groups according to their name to facilitate comparisons:\n",
        "\n",
        "- temporal tools: [t.rast.what](), [t.rast.what.aggr](), [t.vect.observe.strds](https://grass.osgeo.org/grass-stable/manuals/t.vect.observe.strds.html), [t.vect.what.strds](), and \n",
        "- vector tools: [v.what.strds](), [v.what.strds.timestamps](), [v.strds.stats]().\n",
        "\n",
        "\n",
        "::: {.callout-note title=\"Setup\"}\n",
        "This tutorial can be run locally or in Google Colab. However, make sure you\n",
        "install GRASS GIS 8.4+, download the LST sample data and set up your\n",
        "project as explained in the \n",
        "[first part](time_series_management_and_visualization.qmd) of these time\n",
        "series tutorials.\n",
        ":::"
      ]
    },
    {
      "cell_type": "code",
      "metadata": {},
      "source": [
        "#| echo: false\n",
        "\n",
        "import os\n",
        "import sys\n",
        "import subprocess\n",
        "\n",
        "# GRASS GIS database variables\n",
        "grassbin = \"grass-dev\"\n",
        "grassdata = os.path.join(os.path.expanduser('~'), \"grassdata\")\n",
        "project = \"eu_laea\"\n",
        "mapset = \"italy_LST_daily\"\n",
        "\n",
        "sys.path.append(\n",
        "    subprocess.check_output([grassbin, \"--config\", \"python_path\"], text=True).strip()\n",
        ")"
      ],
      "execution_count": null,
      "outputs": []
    },
    {
      "cell_type": "code",
      "metadata": {},
      "source": [
        "#| echo: false\n",
        "\n",
        "# Import the GRASS GIS packages we need\n",
        "import grass.script as gs\n",
        "import grass.jupyter as gj\n",
        "\n",
        "# Start the GRASS GIS Session\n",
        "session = gj.init(grassdata, project, mapset);"
      ],
      "execution_count": null,
      "outputs": []
    },
    {
      "cell_type": "markdown",
      "metadata": {},
      "source": [
        "## Temporal tools\n",
        "\n",
        "All the temporal tools that allow to query raster time series take either \n",
        "coordinates or a point vector map to sample one or various STRDS. \n",
        "Regarding outputs, the *t.rast.\\** tools retrieve values to stdout, write\n",
        "them in plain text files or update the vector attribute table. In contrast, \n",
        "the *t.vect.\\** tools output vector time series. Only two of these tools\n",
        "allow to do queries with temporal aggregation of the raster data according \n",
        "to a fixed date or a date column in the case of\n",
        "[t.rast.what.aggr](https://grass.osgeo.org/grass-stable/manuals/addons/t.rast.what.aggr.html)\n",
        "and with temporal topology relations in the case of \n",
        "[t.vect.what.strds](https://grass.osgeo.org/grass-stable/manuals/t.vect.what.strds.html).\n",
        "\n",
        "\n",
        ": Comparison of temporal tools that allow to query space time raster datasets.\n",
        "\n",
        "| Tools/<br>options | [t.rast.what](https://grass.osgeo.org/grass-stable/manuals/t.rast.what.html) | [t.rast.what.aggr](https://grass.osgeo.org/grass-stable/manuals/addons/t.rast.what.aggr.html) | [t.vect.observe.strds](https://grass.osgeo.org/grass-stable/manuals/t.vect.observe.strds.html) | [t.vect.what.strds](https://grass.osgeo.org/grass-stable/manuals/t.vect.what.strds.html) |\n",
        "|---|---|---|---|---|\n",
        "| Purpose | Samples a STRDS at vector points and writes the output to stdout or text file with different layouts | Samples a STRDS at vector points and returns **aggregated** values  to stdout or in the attribute table | Samples STRDSs at points from a vector map and outputs a **STVDS** | Samples a STRDS at the spatio-temporal locations of a STVDS |\n",
        "| input | vector (points) or coordinates and strds | vector (points) and strds | vector (points) and strds(s) | stvds (points) and strds |\n",
        "| output | stdout or plain text file | vector, plain text or stdout | stvds | stvds |\n",
        "| where | yes |  | yes | yes |\n",
        "| t_where |  |  |  | yes |\n",
        "| spatial aggr |  |  |  |  |\n",
        "| temporal aggr |  | yes |  | yes |\n",
        "| example | t.rast.what -n strds=A points=points output=result.txt layout=row | t.rast.what.aggr input=stations strds=ndvi date=\"2015-05-01\" granularity=\"2 months\" | t.vect.observe.strds input=stations strds=tempmean output=stations vector_output=stations columns=month | t.vect.what.strds input=stations strds=tempmean column=temp method=average |\n",
        "\n",
        "Let's see some examples. We will first randomly extract the centroids of 15 \n",
        "Italian regions in our study area and save them as a points vector map to\n",
        "query the raster time series."
      ]
    },
    {
      "cell_type": "code",
      "metadata": {},
      "source": [
        "# Extract centroids\n",
        "gs.run_command(\"v.extract\", \n",
        "               input=\"italy_borders_2_clip\",\n",
        "               type=\"centroid\",\n",
        "               output=\"regions_centroids\",\n",
        "               random=15)\n",
        "               \n",
        "# Convert centroids to points\n",
        "gs.run_command(\"v.type\", \n",
        "               input=\"regions_centroids\", \n",
        "               output=\"sampling_points\", \n",
        "               from_type=\"centroids\", \n",
        "               to_type=\"points\")"
      ],
      "execution_count": null,
      "outputs": []
    },
    {
      "cell_type": "code",
      "metadata": {},
      "source": [
        "# Display polygons and points\n",
        "centroids = gj.Map(height = 500)\n",
        "centroids.d_vect(map=\"italy_borders_2_clip\")\n",
        "centroids.d_vect(map=\"sampling_points\")\n",
        "centroids.show()"
      ],
      "execution_count": null,
      "outputs": []
    },
    {
      "cell_type": "code",
      "metadata": {},
      "source": [
        "# Get LST monthly values for the points\n",
        "gs.run_command(\"t.rast.what\",\n",
        "               points=\"sampling_points\",\n",
        "               strds=\"lst_monthly\",\n",
        "               layout=\"row\",\n",
        "               flags=\"n\")"
      ],
      "execution_count": null,
      "outputs": []
    },
    {
      "cell_type": "markdown",
      "metadata": {},
      "source": [
        "::: {.callout-note title=\"Layouts\"}\n",
        "You can then play around with the different output layouts, i.e., \n",
        "*row, column, timerow*, to find the one that better suits your data\n",
        "pipelines. \n",
        ":::\n",
        "\n",
        "Now, to exemplify the use of t.rast.what.aggr imagine we did some mosquito\n",
        "trappings in two different dates and we need to know which was the average\n",
        "LST the two months before the trappings. Since the dates are different, we\n",
        "actually need to aggregate different days. This is done on the fly (i.e., \n",
        "without the need to aggregate the whole raster time series) by\n",
        "t.rast.what.aggr.\n",
        "Let's install the extension and add dates to our point vector map."
      ]
    },
    {
      "cell_type": "code",
      "metadata": {},
      "source": [
        "# Install t.rast.what.aggr extension\n",
        "gs.run_command(\"g.extension\", extension=\"t.rast.what.aggr\")"
      ],
      "execution_count": null,
      "outputs": []
    },
    {
      "cell_type": "code",
      "metadata": {},
      "source": [
        "gs.run_command(\"v.db.addcolumn\", \n",
        "               map=\"sampling_points\",\n",
        "               column=\"sampling_date date\")\n",
        "gs.run_command(\"v.db.update\", \n",
        "               map=\"sampling_points\", \n",
        "               column=\"sampling_date\",\n",
        "               value=\"2018-08-27\")\n",
        "gs.run_command(\"v.db.update\",\n",
        "               map=\"sampling_points\",\n",
        "               column=\"sampling_date\",\n",
        "               value=\"2018-07-01\",\n",
        "               where=\"cat >= '68'\")"
      ],
      "execution_count": null,
      "outputs": []
    },
    {
      "cell_type": "markdown",
      "metadata": {},
      "source": [
        "We will use the daily time series in this case to get the aggregation \n",
        "period right."
      ]
    },
    {
      "cell_type": "code",
      "metadata": {},
      "source": [
        "# Get aggregated LST values\n",
        "gs.run_command(\"t.rast.what.aggr\", \n",
        "               input=\"sampling_points\", \n",
        "               strds=\"lst_daily\", \n",
        "               date_column=\"sampling_date\",\n",
        "               granularity=\"2 months\",\n",
        "               method=\"average\",\n",
        "               flags=\"c\")"
      ],
      "execution_count": null,
      "outputs": []
    },
    {
      "cell_type": "code",
      "metadata": {},
      "source": [
        "gs.vector_db_select(\"sampling_points\")[\"values\"]"
      ],
      "execution_count": null,
      "outputs": []
    },
    {
      "cell_type": "code",
      "metadata": {},
      "source": [
        "import pandas as pd\n",
        "\n",
        "table = pd.DataFrame.from_dict(gs.vector_db_select(\"sampling_points\")[\"values\"], \n",
        "                               orient=\"index\", \n",
        "                               columns=gs.vector_db_select(\"sampling_points\")[\"columns\"])\n",
        "\n",
        "table"
      ],
      "execution_count": null,
      "outputs": []
    },
    {
      "cell_type": "markdown",
      "metadata": {},
      "source": [
        "<!-- this above does not work anymore but I do not understand why, \n",
        "there are indeed 16 columns and 16 values per row... boh  -->\n",
        "\n",
        ":::{.callout-note title=\"Question\"}\n",
        "What would be the result if we use the monthly time series?\n",
        ":::\n",
        "\n",
        "Let's demonstrate now the use of t.vect.observe.strds and \n",
        "t.vect.what.strds. These tools as mentioned above output a vector \n",
        "time series."
      ]
    },
    {
      "cell_type": "code",
      "metadata": {},
      "source": [
        "gs.run_command(\"t.vect.observe.strds\",\n",
        "               input=\"sampling_points\",\n",
        "               strds=\"lst_monthly\",\n",
        "               output=\"sp_lst_monthly\",\n",
        "               vector_output=\"sp_lst_monthly\",\n",
        "               columns=\"lst\")"
      ],
      "execution_count": null,
      "outputs": []
    },
    {
      "cell_type": "code",
      "metadata": {},
      "source": [
        "gs.run_command(\"t.info\",\n",
        "               input=\"sp_lst_monthly\",\n",
        "               type=\"stvds\")"
      ],
      "execution_count": null,
      "outputs": []
    },
    {
      "cell_type": "code",
      "metadata": {},
      "source": [
        "gs.vector_info(\"sp_lst_monthly\")"
      ],
      "execution_count": null,
      "outputs": []
    },
    {
      "cell_type": "code",
      "metadata": {},
      "source": [
        "# Check one layer\n",
        "gs.vector_db_select(\"sp_lst_monthly\", layer=7)[\"values\"]"
      ],
      "execution_count": null,
      "outputs": []
    },
    {
      "cell_type": "code",
      "metadata": {},
      "source": [
        "# Check all layers\n",
        "gs.run_command(\"t.vect.db.select\",\n",
        "               input=\"sp_lst_monthly\")"
      ],
      "execution_count": null,
      "outputs": []
    },
    {
      "cell_type": "markdown",
      "metadata": {},
      "source": [
        "Let's compare the values obtained by querying the monthly LST time series\n",
        "with those resulting from aggregating the daily LST time series. They should \n",
        "be the same. For that we need to specify the sampling relation."
      ]
    },
    {
      "cell_type": "code",
      "metadata": {},
      "source": [
        "gs.run_command(\"t.vect.what.strds\", \n",
        "               input=\"sp_lst_monthly\", \n",
        "               strds=\"lst_daily\", \n",
        "               column=\"lst_new\", \n",
        "               method=\"average\", \n",
        "               sampling=\"start\")"
      ],
      "execution_count": null,
      "outputs": []
    },
    {
      "cell_type": "code",
      "metadata": {},
      "source": [
        "gs.run_command(\"t.vect.db.select\",\n",
        "               input=\"sp_lst_monthly\")"
      ],
      "execution_count": null,
      "outputs": []
    },
    {
      "cell_type": "markdown",
      "metadata": {},
      "source": [
        "<!-- create a stvds by adding layers to a points map and then registering \n",
        "them and query a strds with a different sampling - contain does not work, so it seems the ref is the strds, not the stvds -->\n",
        "\n",
        "\n",
        "## Vector tools\n",
        "\n",
        "<!-- add summary here -->\n",
        "\n",
        "\n",
        ": Comparison of vector tools that allow to query space time raster datasets.\n",
        "\n",
        "| Tools/<br>options | [v.what.strds](https://grass.osgeo.org/grass-stable/manuals/v.what.strds.html) | [v.what.strds.timestamp](https://grass.osgeo.org/grass-stable/manuals/addons/v.what.strds.timestamp.html) | [v.strds.stats](https://grass.osgeo.org/grass-stable/manuals/addons/v.strds.stats.html) |\n",
        "|---|---|---|---|\n",
        "| Purpose | Retrieves raster values from STRDSs using a point vector map | Matches points with timestamp in the attribute table with STRDSs based on point locations in space and time, and updates the input vector's attribute table | Calculates zonal statistics from STRDSs and uploads values to attribute columns of a new vector map |\n",
        "| input | vector (points) and strds(s) | vector (points) and strds(s) | vector (lines or polygons) and strds(s) |\n",
        "| output | vector | vector | vector |\n",
        "| where | yes | yes | yes |\n",
        "| t_where | yes | yes | yes |\n",
        "| spatial aggr |  |  | yes |\n",
        "| temporal aggr |  |  |  |\n",
        "| example | v.what.strds input=mypoints strds=mystrds output=newvector | v.what.strds.timestamp input=sampling_points timestamp_column=sampling_time column=lst_at_sampling_time strds=LST_Day_monthly | v.strds.stats input=myvector strds=mystrds output=newvector method=average |\n",
        "\n",
        "<!-- adapt examples to general names/objects -->\n"
      ]
    },
    {
      "cell_type": "code",
      "metadata": {},
      "source": [
        "gs.run_command(\"v.what.strds\",\n",
        "               input=\"sampling_points\",\n",
        "               strds=\"lst_monthly\",\n",
        "               output=\"sp_lst_monthly_2014\",\n",
        "               t_where=\"start_time <= '2015-01-01'\")"
      ],
      "execution_count": null,
      "outputs": []
    },
    {
      "cell_type": "code",
      "metadata": {},
      "source": [
        "# Check the attr table of the new vector\n",
        "gs.vector_db_select(\"sp_lst_monthly_2014\")[\"values\"]"
      ],
      "execution_count": null,
      "outputs": []
    },
    {
      "cell_type": "markdown",
      "metadata": {},
      "source": [
        "<!-- need help with using json output and get a nice pandas table displayed here, from dict does not seem to work (see above) -->\n",
        "\n",
        ":::{.callout-note title=\"Update vector attr table\"}\n",
        "Instead of creating a new vector map, it is also possible to update\n",
        "the attribute table of the input vector map by setting the `u` flag.\n",
        ":::"
      ]
    },
    {
      "cell_type": "code",
      "metadata": {},
      "source": [
        "gs.run_command(\"g.extension\", extension=\"v.what.strds.timestamp\")"
      ],
      "execution_count": null,
      "outputs": []
    },
    {
      "cell_type": "code",
      "metadata": {},
      "source": [
        "gs.run_command(\"v.what.strds.timestamp\",\n",
        "               input=\"sampling_points\",\n",
        "               timestamp_column=\"sampling_date\",\n",
        "               column=\"lst_sampling_date\",\n",
        "               strds=\"lst_daily\",\n",
        "               flags=\"i\")"
      ],
      "execution_count": null,
      "outputs": []
    },
    {
      "cell_type": "code",
      "metadata": {},
      "source": [
        "gs.vector_db_select(\"sampling_points\")[\"values\"]"
      ],
      "execution_count": null,
      "outputs": []
    },
    {
      "cell_type": "code",
      "metadata": {},
      "source": [
        "gs.run_command(\"g.extension\", extension=\"v.strds.stats\")"
      ],
      "execution_count": null,
      "outputs": []
    },
    {
      "cell_type": "code",
      "metadata": {},
      "source": [
        "# Extract August average LST for Milano\n",
        "gs.run_command(\"v.strds.stats\",\n",
        "               input=\"italy_borders_3\",\n",
        "               strds=\"lst_monthly\",\n",
        "               where=\"NAME_3 == 'Milano'\",\n",
        "               t_where=\"strftime('%m', start_time)='08'\",\n",
        "               output=\"milano_lst_august\",\n",
        "               method=\"average\")"
      ],
      "execution_count": null,
      "outputs": []
    },
    {
      "cell_type": "code",
      "metadata": {},
      "source": [
        "gs.vector_db_select(\"milano_lst_august\")[\"values\"]"
      ],
      "execution_count": null,
      "outputs": []
    },
    {
      "cell_type": "markdown",
      "metadata": {},
      "source": [
        "Which municipality in northern Italy had the highest August average temperature each year?"
      ]
    },
    {
      "cell_type": "code",
      "metadata": {},
      "source": [
        "# Clip municipalities to comp reg\n",
        "gs.run_command(\"v.clip\", input=\"italy_borders_3\", output=\"italy_borders_3_clip\", flags=\"r\")"
      ],
      "execution_count": null,
      "outputs": []
    },
    {
      "cell_type": "code",
      "metadata": {},
      "source": [
        "# Extract summer average LST municipalities\n",
        "gs.run_command(\"v.strds.stats\",\n",
        "               input=\"italy_borders_3_clip\",\n",
        "               strds=\"lst_monthly\",\n",
        "               t_where=\"strftime('%m', start_time)='08'\",\n",
        "               output=\"municip_lst_august\",\n",
        "               method=\"average\")"
      ],
      "execution_count": null,
      "outputs": []
    },
    {
      "cell_type": "code",
      "metadata": {},
      "source": [
        "gs.vector_db_select(\"municip_lst_august\")[\"values\"]"
      ],
      "execution_count": null,
      "outputs": []
    },
    {
      "cell_type": "markdown",
      "metadata": {},
      "source": [
        "<!-- how to get the resulting attr table into something useful to answer the \n",
        "question? -->\n"
      ]
    }
  ],
  "metadata": {
    "kernelspec": {
      "name": "python3",
      "language": "python",
      "display_name": "Python 3 (ipykernel)"
    }
  },
  "nbformat": 4,
  "nbformat_minor": 4
}