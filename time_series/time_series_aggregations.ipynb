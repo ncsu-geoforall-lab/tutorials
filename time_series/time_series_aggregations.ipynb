{
  "cells": [
    {
      "cell_type": "raw",
      "metadata": {},
      "source": [
        "---\n",
        "title: Time series aggregation\n",
        "author: Verónica Andreo\n",
        "date: today\n",
        "format:\n",
        "  html:\n",
        "    code-tools: true\n",
        "    code-copy: true\n",
        "    code-fold: false\n",
        "engine: knitr\n",
        "execute:\n",
        "  eval: false\n",
        "  keep-ipynb: true\n",
        "---"
      ]
    },
    {
      "cell_type": "markdown",
      "metadata": {},
      "source": [
        "In this second part of the time series tutorials, we will go through different\n",
        "ways of performing aggregations. Temporal aggregation is a very common task\n",
        "when working with time series as it allows us to summarize information and\n",
        "find patterns of change both in space and time.\n",
        "\n",
        "::: {.callout-note title=\"Setup\"}\n",
        "This tutorial can be run locally or in Google Colab. However, make sure you\n",
        "install GRASS GIS 8.3+, download the sample data and set up your project\n",
        "as explained in the [first part](time_series_management_and_visualization.qmd) \n",
        "of these time series tutorials.\n",
        ":::\n",
        "\n",
        "There are two main tools to do time series aggregations in GRASS GIS:\n",
        "[t.rast.aggregate](https://grass.osgeo.org/grass-stable/manuals/t.rast.aggregate.html)\n",
        "and [t.rast.series](https://grass.osgeo.org/grass-stable/manuals/t.rast.series.html). \n",
        "We'll demonstrate their usage in the upcoming sections."
      ]
    },
    {
      "cell_type": "code",
      "metadata": {},
      "source": [
        "#| echo: false\n",
        "\n",
        "import os\n",
        "import sys\n",
        "import subprocess\n",
        "\n",
        "# GRASS GIS database variables\n",
        "grassbin = \"grass-dev\"\n",
        "grassdata = os.path.join(os.path.expanduser('~'), \"grassdata\")\n",
        "project = \"eu_laea\"\n",
        "mapset = \"italy_LST_daily\"\n",
        "\n",
        "sys.path.append(\n",
        "    subprocess.check_output([grassbin, \"--config\", \"python_path\"], text=True).strip()\n",
        ")"
      ],
      "execution_count": null,
      "outputs": []
    },
    {
      "cell_type": "code",
      "metadata": {},
      "source": [
        "#| echo: false\n",
        "\n",
        "# Import the GRASS GIS packages we need\n",
        "import grass.script as gs\n",
        "import grass.jupyter as gj\n",
        "\n",
        "# Start the GRASS GIS Session\n",
        "session = gj.init(grassdata, project, mapset);"
      ],
      "execution_count": null,
      "outputs": []
    },
    {
      "cell_type": "markdown",
      "metadata": {},
      "source": [
        "## Aggregation with granularity \n",
        "\n",
        "To perform time series aggregation with granularity, we use \n",
        "[t.rast.aggregate](https://grass.osgeo.org/grass-stable/manuals/t.rast.aggregate.html).\n",
        "This tool allows us to aggregate our time series into larger granularities, i.e.,\n",
        "from hourly to daily, from daily to weekly, monthly, etc. It also permits to \n",
        "aggregate with *ad hoc* granularities like 3 minutes, 5 days, 3 months, etc.\n",
        "Supported aggregate methods include average, minimum, maximum, median, etc. See \n",
        "the [r.series](https://grass.osgeo.org/grass-stable/manuals/r.series.html) \n",
        "manual page for details.\n",
        "\n",
        "If you are working with data representing absolute time, *t.rast.aggregate* will \n",
        "shift the start date for each aggregation process depending on the provided \n",
        "temporal granularity as follows:\n",
        "\n",
        "- years: will start at the first of January, hence 14-08-2012 00:01:30 will be shifted to 01-01-2012 00:00:00\n",
        "- months: will start at the first day of a month, hence 14-08-2012 will be shifted to 01-08-2012 00:00:00\n",
        "- weeks: will start at the first day of a week (Monday), hence 14-08-2012 01:30:30 will be shifted to 13-08-2012 01:00:00\n",
        "- days: will start at the first hour of a day, hence 14-08-2012 00:01:30 will be shifted to 14-08-2012 00:00:00\n",
        "- hours: will start at the first minute of a hour, hence 14-08-2012 01:30:30 will be shifted to 14-08-2012 01:00:00\n",
        "- minutes: will start at the first second of a minute, hence 14-08-2012 01:30:30 will be shifted to 14-08-2012 01:30:00\n",
        "\n",
        "The specification of the temporal relation between the aggregation intervals and \n",
        "the raster map layers to be aggregated is always formulated from the aggregation \n",
        "interval viewpoint. By default, it is set to *contains* to aggregate all maps \n",
        "that are temporally located in an aggregation interval.\n",
        "\n",
        "### Monthly and seasonal averages\n",
        "\n",
        "To demonstrate the basic usage of t.rast.aggregate, let's create monthly and\n",
        "seasonal time series starting from the `lst_daily` time series we created\n",
        "in the [time series management](time_series_management_and_visualization.qmd) \n",
        "tutorial."
      ]
    },
    {
      "cell_type": "code",
      "metadata": {},
      "source": [
        "# Daily to monthly\n",
        "gs.run_command(\"t.rast.aggregate\",\n",
        "                input=\"lst_daily\",\n",
        "                method=\"average\",\n",
        "                granularity=\"1 months\",\n",
        "                basename=\"lst_avg\",\n",
        "                output=\"lst_monthly\",\n",
        "                suffix=\"gran\",\n",
        "                nprocs=4)"
      ],
      "execution_count": null,
      "outputs": []
    },
    {
      "cell_type": "code",
      "metadata": {},
      "source": [
        "# Daily to (sort of) seasonal\n",
        "gs.run_command(\"t.rast.aggregate\",\n",
        "                input=\"lst_daily\",\n",
        "                method=\"average\",\n",
        "                granularity=\"3 months\", \n",
        "                basename=\"lst_avg\", \n",
        "                output=\"lst_seasonal\", \n",
        "                suffix=\"gran\",\n",
        "                nprocs=4)"
      ],
      "execution_count": null,
      "outputs": []
    },
    {
      "cell_type": "markdown",
      "metadata": {},
      "source": [
        "If we would like to follow the so called \n",
        "[*meteorological seasons*](https://en.wikipedia.org/wiki/Season#Meteorological),\n",
        "i.e., that spring started with March, then we could have used the *where* option\n",
        "to shift the starting point of the aggregation period as follows: \n",
        "`where=\"start_time >= '2013-03-01 00:00:00'\"`.\n",
        "\n",
        "Let's compare the granularities using the timeline plot..."
      ]
    },
    {
      "cell_type": "code",
      "metadata": {},
      "source": [
        "!g.gui.timeline lst_monthly,lst_seasonal"
      ],
      "execution_count": null,
      "outputs": []
    },
    {
      "cell_type": "markdown",
      "metadata": {},
      "source": [
        "![]()\n",
        "\n",
        "and use `grass.jupyter` to create a nice animation of the seasonal time series:"
      ]
    },
    {
      "cell_type": "code",
      "metadata": {},
      "source": [
        "lstseries = gj.TimeSeriesMap(use_region=True)\n",
        "lstseries.add_raster_series(\"lst_seasonal\", fill_gaps=False)\n",
        "lstseries.d_legend(color=\"black\", at=(10,40,2,6))\n",
        "lstseries.show()"
      ],
      "execution_count": null,
      "outputs": []
    },
    {
      "cell_type": "code",
      "metadata": {},
      "source": [
        "# Optionally, write out to animated GIF\n",
        "lstseries.save(\"lstseries.gif\")"
      ],
      "execution_count": null,
      "outputs": []
    },
    {
      "cell_type": "markdown",
      "metadata": {},
      "source": [
        "For astronomical seasons, i.e., those defined by solstices and equinoxes, we can use \n",
        "[t.rast.aggregate.ds](https://grass.osgeo.org/grass-stable/manuals/t.rast.aggregate.ds.html) \n",
        "as in \n",
        "[this example](https://grasswiki.osgeo.org/wiki/Temporal_data_processing/seasonal_aggregation), \n",
        "or for an approximate result:"
      ]
    },
    {
      "cell_type": "code",
      "metadata": {},
      "source": [
        "gs.run_command(\"t.rast.aggregate\",\n",
        "                input=\"lst_daily\",\n",
        "                method=\"average\",\n",
        "                where=\"start_time >= '2013-03-21 00:00:00'\",\n",
        "                granularity=\"3 months\", \n",
        "                basename=\"lst_avg\", \n",
        "                output=\"lst_seasonal\", \n",
        "                suffix=\"gran\",\n",
        "                nprocs=4)"
      ],
      "execution_count": null,
      "outputs": []
    },
    {
      "cell_type": "code",
      "metadata": {},
      "source": [
        "# Check info\n",
        "gs.read_command(\"t.info\",\n",
        "                input=\"lst_seasonal\",\n",
        "                flags=\"g\")"
      ],
      "execution_count": null,
      "outputs": []
    },
    {
      "cell_type": "code",
      "metadata": {},
      "source": [
        "# Check raster maps in the STRDS\n",
        "gs.run_command(\"t.rast.list\", input=\"lst_seasonal\")"
      ],
      "execution_count": null,
      "outputs": []
    },
    {
      "cell_type": "markdown",
      "metadata": {},
      "source": [
        "::: {.callout-tip}\n",
        "There's an upcoming addon that will perform seasonal aggregations. See:\n",
        "<https://github.com/OSGeo/grass-addons/pull/1010>.\n",
        ":::\n",
        "\n",
        "### Spring warming\n",
        "\n",
        "We define spring warming as the velocity with which temperature increases from \n",
        "winter into spring and we can approximate it as the linear regression slope \n",
        "among LST values of February, March and April. Let's see how to use \n",
        "*t.rast.aggregate* to estimate yearly spring warming values."
      ]
    },
    {
      "cell_type": "code",
      "metadata": {},
      "source": [
        "# Define list of months\n",
        "months=['{0:02d}'.format(m) for m in range(2,5)]\n",
        "print(months)"
      ],
      "execution_count": null,
      "outputs": []
    },
    {
      "cell_type": "code",
      "metadata": {},
      "source": [
        "# Annual spring warming\n",
        "gs.run_command(\"t.rast.aggregate\",\n",
        "               input=\"lst_daily\",\n",
        "               output=\"annual_spring_warming\",\n",
        "               basename=\"spring_warming\",\n",
        "               suffix=\"gran\",\n",
        "               method=\"slope\",\n",
        "               granularity=\"1 years\",\n",
        "               where=f\"strftime('%m',start_time)='{months[0]}' or strftime('%m',start_time)='{months[1]}' or strftime('%m', start_time)='{months[2]}'\")"
      ],
      "execution_count": null,
      "outputs": []
    },
    {
      "cell_type": "code",
      "metadata": {},
      "source": [
        "# Check raster maps in the STRDS\n",
        "gs.run_command(\"t.rast.list\", input=\"annual_spring_warming\")"
      ],
      "execution_count": null,
      "outputs": []
    },
    {
      "cell_type": "code",
      "metadata": {},
      "source": [
        "spring_warming = gj.TimeSeriesMap(use_region=True)\n",
        "spring_warming.add_raster_series(\"annual_spring_warming\", fill_gaps=False)\n",
        "spring_warming.d_legend(color=\"black\", at=(10,40,2,6))\n",
        "spring_warming.show()"
      ],
      "execution_count": null,
      "outputs": []
    },
    {
      "cell_type": "markdown",
      "metadata": {},
      "source": [
        ":::{.callout-note collapse=\"true\"}\n",
        "How would you obtain the average spring warming over the whole time series?"
      ]
    },
    {
      "cell_type": "code",
      "metadata": {},
      "source": [
        "# Average spring warming\n",
        "gs.run_command(\"t.rast.series\",\n",
        "               input=\"annual_spring_warming\",\n",
        "               output=\"avg_spring_warming\",\n",
        "               method=\"average\")\n",
        "               \n",
        "# Display raster map with interactive class\n",
        "auc_map = gj.InteractiveMap(width = 500, use_region=True, tiles=\"CartoDark\")\n",
        "auc_map.add_raster(\"avg_spring_warming\")\n",
        "auc_map.add_layer_control(position = \"bottomright\")\n",
        "auc_map.show()"
      ],
      "execution_count": null,
      "outputs": []
    },
    {
      "cell_type": "markdown",
      "metadata": {},
      "source": [
        ":::\n",
        "\n",
        "\n",
        "## Full series aggregation\n",
        "\n",
        "The previous question (as you might have seen) can be solved using \n",
        "[t.rast.series](https://grass.osgeo.org/grass-stable/manuals/t.rast.series.html).\n",
        "This tool allows us to aggregate complete time series (or only selected parts) \n",
        "with a certain method. Available aggregation methods include average, minimum,\n",
        "maximum, median, etc. See the \n",
        "[r.series](https://grass.osgeo.org/grass-stable/manuals/r.series.html) \n",
        "manual page for details.\n",
        "\n",
        "### Maximum and minimum LST\n",
        "\n",
        "We'll demonstrate how to aggregate the whole `lst_daily` time series to obtain\n",
        "the maximum and minimum LST value for the period 2014-2018. Note that the input\n",
        "is a STRDS object while the output is a single map in which pixel values \n",
        "correspond to the maximum or minimum value of the time series they represent."
      ]
    },
    {
      "cell_type": "code",
      "metadata": {},
      "source": [
        "# Get maximum and minimum LST in the STRDS\n",
        "methods=[\"maximum\",\"minimum\"]\n",
        "\n",
        "for m in methods:\n",
        "    gs.run_command(\"t.rast.series\",\n",
        "                   input=\"lst_daily\",\n",
        "                   output=f\"lst_{m}\",\n",
        "                   method=m,\n",
        "                   nprocs=4)\n"
      ],
      "execution_count": null,
      "outputs": []
    },
    {
      "cell_type": "code",
      "metadata": {},
      "source": [
        "# Change color palette to Celsius\n",
        "gs.run_command(\"r.colors\",\n",
        "               map=\"lst_minimum,lst_maximum\",\n",
        "               color=\"celsius\")"
      ],
      "execution_count": null,
      "outputs": []
    },
    {
      "cell_type": "markdown",
      "metadata": {},
      "source": [
        "Let's use the `InteractiveMap` class from `grass.jupyter` to visualize the\n",
        "maximum and minimum LST maps."
      ]
    },
    {
      "cell_type": "code",
      "metadata": {},
      "source": [
        "# Plot\n",
        "lst_map=gj.InteractiveMap(width = 500)\n",
        "lst_map.add_raster(\"lst_minimum\")\n",
        "lst_map.add_raster(\"lst_maximum\")\n",
        "lst_map.add_layer_control(position = \"bottomright\")\n",
        "lst_map.show()"
      ],
      "execution_count": null,
      "outputs": []
    },
    {
      "cell_type": "markdown",
      "metadata": {},
      "source": [
        "### Long term aggregations\n",
        "\n",
        "If we want to know how is the temperature on a \"typical\" January, February and so\n",
        "on, we estimate the so called long-term averages or climatologies for each month.\n",
        "These are usually computed over 20 or 30 years of data, but for the purpose of \n",
        "demonstrating the usage of *t.rast.series*, we will use our 5-year time series \n",
        "here.\n",
        "\n",
        "We will use something we learnt in the listing and selection examples in the\n",
        "first time series tutorial, i.e., we need to select all maps for each month\n",
        "to perform the aggregation. So, the input will be the whole time series, but we\n",
        "will use only some maps to estimate the long term monthly average, minimum and \n",
        "maximum values. Let's see how to do all that with a simple for cycle looping\n",
        "over months and methods:"
      ]
    },
    {
      "cell_type": "code",
      "metadata": {},
      "source": [
        "# Estimate long term aggr for all months and methods\n",
        "months=['{0:02d}'.format(m) for m in range(1,13)]\n",
        "methods=[\"average\",\"minimum\",\"maximum\"]\n",
        "\n",
        "for m in months:\n",
        "    for me in methods:\n",
        "        print(f\"Aggregating all {m} maps with {me} method\")\n",
        "        gs.run_command(\"t.rast.series\", \n",
        "                       input=\"lst_daily\",\n",
        "                       method=me,\n",
        "                       where=f\"strftime('%m', start_time)='{m}'\",\n",
        "                       output=\"lst_{}_{}\".format(me,m))"
      ],
      "execution_count": null,
      "outputs": []
    },
    {
      "cell_type": "code",
      "metadata": {},
      "source": [
        "# List newly created maps\n",
        "map_list = gs.list_grouped(type=\"raster\", \n",
        "                           pattern=\"*{average,minimum,maximum}*\")['italy_LST_daily']\n",
        "print(map_list)"
      ],
      "execution_count": null,
      "outputs": []
    },
    {
      "cell_type": "markdown",
      "metadata": {},
      "source": [
        "::: {.callout-note}\n",
        "Why didn't we list with t.rast.list?\n",
        ":::"
      ]
    },
    {
      "cell_type": "code",
      "metadata": {},
      "source": [
        "# List of average maps\n",
        "map_list = gs.list_grouped(type=\"raster\", pattern=\"*average*\")['italy_LST_daily']\n",
        "\n",
        "# Animation with SeriesMap class\n",
        "series = gj.SeriesMap(height = 500)\n",
        "series.add_rasters(map_list)\n",
        "series.d_barscale()\n",
        "series.show()"
      ],
      "execution_count": null,
      "outputs": []
    },
    {
      "cell_type": "markdown",
      "metadata": {},
      "source": [
        "### Bioclimatic variables\n",
        "\n",
        "Perhaps you have heard of [Worldclim](https://www.worldclim.org/) or \n",
        "[CHELSA](https://chelsa-climate.org/) bioclimatic variables? Well, these are 19 \n",
        "variables that represent potentially limiting conditions for species. They \n",
        "derive from the combination of temperature and precipitation long term \n",
        "aggregations. \n",
        "Let's use those that we estimated in the previous example to estimate the\n",
        "bioclimatic variables that include temperature. GRASS GIS has a very nice\n",
        "extension, \n",
        "[r.bioclim](https://grass.osgeo.org/grass-stable/manuals/addons/r.bioclim.html),\n",
        "to estimate bioclimatic variables."
      ]
    },
    {
      "cell_type": "code",
      "metadata": {},
      "source": [
        "# Install extension\n",
        "gs.run_command(\"g.extension\",\n",
        "               extension=\"r.bioclim\")"
      ],
      "execution_count": null,
      "outputs": []
    },
    {
      "cell_type": "code",
      "metadata": {},
      "source": [
        "# Get lists of maps needed\n",
        "tmin=gs.list_grouped(type=\"raster\", pattern=\"lst_minimum_??\")['italy_LST_daily']\n",
        "tmax=gs.list_grouped(type=\"raster\", pattern=\"lst_maximum_??\")['italy_LST_daily']\n",
        "tavg=gs.list_grouped(type=\"raster\", pattern=\"lst_average_??\")['italy_LST_daily']\n",
        "\n",
        "print(tmin,tmax,tavg)"
      ],
      "execution_count": null,
      "outputs": []
    },
    {
      "cell_type": "code",
      "metadata": {},
      "source": [
        "# Estimate temperature related bioclimatic variables\n",
        "gs.run_command(\"r.bioclim\", \n",
        "               tmin=tmin, \n",
        "               tmax=tmax,\n",
        "               tavg=tavg, \n",
        "               output=\"worldclim_\") "
      ],
      "execution_count": null,
      "outputs": []
    },
    {
      "cell_type": "code",
      "metadata": {},
      "source": [
        "# List output maps\n",
        "gs.list_grouped(type=\"raster\", pattern=\"worldclim*\")['italy_LST_daily']"
      ],
      "execution_count": null,
      "outputs": []
    },
    {
      "cell_type": "markdown",
      "metadata": {},
      "source": [
        "Let's have a look at some of the maps we just created"
      ]
    },
    {
      "cell_type": "code",
      "metadata": {},
      "source": [
        "# Display raster map with interactive class\n",
        "bio_map = gj.InteractiveMap(width = 500, use_region=True)\n",
        "bio_map.add_raster(\"worldclim_bio01\")\n",
        "bio_map.add_raster(\"worldclim_bio02\")\n",
        "bio_map.add_layer_control(position = \"bottomright\")\n",
        "bio_map.show()"
      ],
      "execution_count": null,
      "outputs": []
    },
    {
      "cell_type": "markdown",
      "metadata": {},
      "source": [
        "Let's assume a certain insect species can only survive where winter mean \n",
        "temperatures are above 5 degrees. How would you determine suitable areas?\n",
        "We'll see that in the upcoming tutorial, stay tuned!\n",
        "\n",
        "::: {.callout-tip}\n",
        "If you are curious, maybe you want to have a look at \n",
        "[t.rast.mapcalc](https://grass.osgeo.org/grass-stable/manuals/t.rast.mapcalc.html)\n",
        "and \n",
        "[t.rast.algebra](https://grass.osgeo.org/grass-stable/manuals/t.rast.algebra.html).\n",
        ":::\n",
        "\n",
        "## References\n"
      ]
    }
  ],
  "metadata": {
    "kernelspec": {
      "name": "python3",
      "language": "python",
      "display_name": "Python 3 (ipykernel)"
    }
  },
  "nbformat": 4,
  "nbformat_minor": 4
}