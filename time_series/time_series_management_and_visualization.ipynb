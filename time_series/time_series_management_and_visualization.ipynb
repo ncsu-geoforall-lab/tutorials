{
  "cells": [
    {
      "cell_type": "raw",
      "metadata": {},
      "source": [
        "---\n",
        "title: Time series management and visualization\n",
        "author: Verónica Andreo\n",
        "date: today\n",
        "format:\n",
        "  html:\n",
        "    code-tools: true\n",
        "    code-copy: true\n",
        "    code-fold: false\n",
        "engine: knitr\n",
        "execute:\n",
        "  eval: false\n",
        "  keep-ipynb: true\n",
        "---"
      ]
    },
    {
      "cell_type": "markdown",
      "metadata": {},
      "source": [
        "## The Temporal GRASS framework\n",
        "\n",
        "GRASS GIS was the first FOSS GIS that incorporated capabilities to \n",
        "*manage, analyze, process and visualize spatio-temporal data*, as well as \n",
        "the temporal relationships among time series and maps within time series.\n",
        "\n",
        "- TGRASS (the temporal GRASS) is fully **based on metadata** and does not duplicate any dataset\n",
        "- It is based on a **snapshot** approach, i.e., it adds time stamps to maps\n",
        "- A collection of time stamped maps (snapshots) of the same variable are called **space-time datasets** or STDS\n",
        "- Maps in a STDS can have different spatial and temporal extents\n",
        "- Space-time datasets can be composed of raster, raster 3D or vector maps, and so\n",
        "we call them:\n",
        "  - Space time raster datasets (**STRDS**)\n",
        "  - Space time 3D raster datasets (**STR3DS**)\n",
        "  - Space time vector datasets (**STVDS**)\n",
        "- These STDS objects will then be inputs and (optionally) outputs of temporal tools\n",
        "\n",
        "\n",
        "### Temporal tools\n",
        "\n",
        "GRASS temporal tools are named and organized following GRASS core naming\n",
        "scheme. In this way, we have:\n",
        "\n",
        "- **t.\\***: general tools to handle STDS of all types\n",
        "- **t.rast.\\***: tools that deal with STRDS\n",
        "- **t.rast3d.\\***: tools that deal with STR3DS\n",
        "- **t.vect.\\***: tools that deal with STVDS\n",
        "\n",
        "\n",
        "### Other TGRASS notions\n",
        "\n",
        "- Time can be defined as **intervals** (start and end time) or **instances** \n",
        "(only start time)\n",
        "- Time can be **absolute** (e.g., 2017-04-06 22:39:49) or **relative** \n",
        "(e.g., 4 years, 90 days)\n",
        "- **Granularity** is the greatest common divisor of the temporal extents \n",
        "(and possible gaps) of all maps in the space-time cube\n",
        "- **Topology** refers to temporal relations between time intervals in a STDS.\n",
        "- **Temporal sampling**\n",
        "\n",
        "### TGRASS framework and workflow\n",
        "\n",
        "![](../img/tgrass_flowchart.png){width=\"70%\" fig-align=\"center\"}\n",
        "\n",
        "::: {.callout-note title=\"Setup note\"}\n",
        "To run this tutorial locally or in Google Colab, you should install \n",
        "GRASS GIS 8.4+, and download the \n",
        "[daily MODIS LST project](https://zenodo.org/records/3564515). \n",
        "This project contains average daily MODIS LST data reconstructed by \n",
        "[mundialis GmbH & Co. KG](https://www.mundialis.de/en/) based on @metz_new_2017.\n",
        "\n",
        "Follow the [Fast track to GRASS GIS]() and [GRASS in Colab]() tutorials to \n",
        "get you started.\n",
        ":::\n",
        "\n",
        "<!-- add links when those tutorials are online -->\n",
        "\n",
        "In this first tutorial of the **\"Time series in GRASS GIS\"** series, we will\n",
        "learn the basics of time series management: \n",
        "\n",
        "- creation\n",
        "- different ways of assigning time stamps, i.e., registering\n",
        "- getting info\n",
        "- listing and selection\n",
        "- descriptive stats\n",
        "- visualizations\n",
        "\n",
        "\n",
        "## Hands-on\n",
        "\n",
        "So let's start... We begin by setting variables, checking GRASS installation and\n",
        "initializing GRASS GIS"
      ]
    },
    {
      "cell_type": "code",
      "metadata": {},
      "source": [
        "import os\n",
        "\n",
        "# GRASS GIS database variables\n",
        "grassbin = \"grass-dev\"\n",
        "grassdata = os.path.join(os.path.expanduser('~'), \"grassdata\")\n",
        "project = \"eu_laea\"\n",
        "mapset = \"italy_LST_daily\""
      ],
      "execution_count": null,
      "outputs": []
    },
    {
      "cell_type": "code",
      "metadata": {},
      "source": [
        "# Ask GRASS GIS where its Python packages are \n",
        "import sys\n",
        "import subprocess\n",
        "\n",
        "sys.path.append(\n",
        "    subprocess.check_output([grassbin, \"--config\", \"python_path\"], text=True).strip()\n",
        ")"
      ],
      "execution_count": null,
      "outputs": []
    },
    {
      "cell_type": "markdown",
      "metadata": {},
      "source": [
        "Now we are ready to start a GRASS GIS session"
      ]
    },
    {
      "cell_type": "code",
      "metadata": {},
      "source": [
        "# Import the GRASS GIS packages we need\n",
        "import grass.script as gs\n",
        "import grass.jupyter as gj\n",
        "\n",
        "# Start the GRASS GIS Session\n",
        "session = gj.init(grassdata, project, mapset);"
      ],
      "execution_count": null,
      "outputs": []
    },
    {
      "cell_type": "markdown",
      "metadata": {},
      "source": [
        "### Explore the data in the mapset\n",
        "\n",
        "Let's first explore what we have within the `italy_LST_daily` mapset and display\n",
        "a raster map using the `InteractiveMap` class from `grass.jupyter` library."
      ]
    },
    {
      "cell_type": "code",
      "metadata": {},
      "source": [
        "# List raster elements\n",
        "rast = gs.list_grouped(type=\"raster\", pattern=\"lst*\")['italy_LST_daily']\n",
        "rast[0:10]"
      ],
      "execution_count": null,
      "outputs": []
    },
    {
      "cell_type": "code",
      "metadata": {},
      "source": [
        "# Display raster map with interactive class\n",
        "lst_map = gj.InteractiveMap(width = 500, use_region=True, tiles=\"CartoDB.DarkMatter\")\n",
        "lst_map.add_raster(\"lst_2014.005_avg\")\n",
        "lst_map.add_layer_control(position = \"bottomright\")\n",
        "lst_map.show()"
      ],
      "execution_count": null,
      "outputs": []
    },
    {
      "cell_type": "markdown",
      "metadata": {},
      "source": [
        "### Create a time series\n",
        "\n",
        "When working with the temporal framework or TGRASS, the first step is to create \n",
        "the time series object or STDS. This object is basically a container for \n",
        "maps that are already imported into or linked to our GRASS project, we are\n",
        "not duplicating any data. \n",
        "It consists of a SQLite table that will then store map names and metadata such \n",
        "as spatial extent, temporal extent, min and max values, semantic labels, etc.\n",
        "\n",
        "To create the time series object then, we use  [t.create](https://grass.osgeo.org/grass-stable/manuals/t.create.html) and\n",
        "we need to define the type (strds, stvds or st3ds), the temporal type (absolute \n",
        "or relative), the output or name of the time series object, a title and a \n",
        "description. "
      ]
    },
    {
      "cell_type": "code",
      "metadata": {},
      "source": [
        "# Create time series \n",
        "gs.run_command(\"t.create\",\n",
        "               type=\"strds\",\n",
        "               temporaltype=\"absolute\",\n",
        "               output=\"lst_daily\",\n",
        "               title=\"Average Daily LST\",\n",
        "               description=\"Gap filled average daily MODIS LST in Celsius - 2014-2018\")"
      ],
      "execution_count": null,
      "outputs": []
    },
    {
      "cell_type": "markdown",
      "metadata": {},
      "source": [
        "With [t.list](https://grass.osgeo.org/grass-stable/manuals/t.list.html) \n",
        "we check the object was indeed created and with \n",
        "[t.info](https://grass.osgeo.org/grass-stable/manuals/t.info.html) \n",
        "we can explore details about this recently created object."
      ]
    },
    {
      "cell_type": "code",
      "metadata": {},
      "source": [
        "# Check it is created\n",
        "gs.run_command(\"t.list\",\n",
        "              type=\"strds\")"
      ],
      "execution_count": null,
      "outputs": []
    },
    {
      "cell_type": "code",
      "metadata": {},
      "source": [
        "# Check time series metadata\n",
        "print(gs.read_command(\"t.info\",\n",
        "                      input=\"lst_daily\"))"
      ],
      "execution_count": null,
      "outputs": []
    },
    {
      "cell_type": "markdown",
      "metadata": {},
      "source": [
        "Since we have not yet registered our LST maps in the time series object, it\n",
        "is empty, i.e., there is no metadata to show. \n",
        "\n",
        "### Assign time stamps: register maps\n",
        "\n",
        "To actually fill our time series object with the LST maps, we need to assign time\n",
        "stamps to these maps. For this we use the \n",
        "[t.register](https://grass.osgeo.org/grass-stable/manuals/t.register.html) tool. \n",
        "There are different ways of registering maps. We can either pass a list of comma\n",
        "separated sorted maps or a text file with one map per line and optionally start \n",
        "and end dates, and semantic labels. It is also important to understand if our \n",
        "data represent time intervals or time instances, and in the case of intervals, \n",
        "if they are regular or irregular, as all these will determine different \n",
        "`t.register` usage possibilities.  \n",
        "\n",
        "Here, we will exemplify the use of a comma separated list of maps and, \n",
        "since our data represent regular time intervals, we will use the start and \n",
        "increment options together with the `i` flag to actually create the intervals."
      ]
    },
    {
      "cell_type": "code",
      "metadata": {},
      "source": [
        "# Get list of maps and print the first 5 elements \n",
        "map_list = gs.list_grouped(type=\"raster\", pattern=\"lst_201*\")['italy_LST_daily']\n",
        "map_list[0:6]"
      ],
      "execution_count": null,
      "outputs": []
    },
    {
      "cell_type": "code",
      "metadata": {},
      "source": [
        "# How many maps do we have?\n",
        "len(map_list)"
      ],
      "execution_count": null,
      "outputs": []
    },
    {
      "cell_type": "code",
      "metadata": {},
      "source": [
        "# Register maps in strds  \n",
        "gs.run_command(\"t.register\", \n",
        "               input=\"lst_daily\",\n",
        "               maps=map_list,\n",
        "               increment=\"1 days\",\n",
        "               start=\"2014-01-01\", \n",
        "               flags=\"i\")"
      ],
      "execution_count": null,
      "outputs": []
    },
    {
      "cell_type": "markdown",
      "metadata": {},
      "source": [
        "Let's check the metadata once again, all fields should be populated now."
      ]
    },
    {
      "cell_type": "code",
      "metadata": {},
      "source": [
        "# Get info about the strds\n",
        "print(gs.read_command(\"t.info\",\n",
        "                      input=\"lst_daily\",\n",
        "                      flags=\"g\"))"
      ],
      "execution_count": null,
      "outputs": []
    },
    {
      "cell_type": "markdown",
      "metadata": {},
      "source": [
        "The tool `t.info` can also provide information of single maps, e.g.:"
      ]
    },
    {
      "cell_type": "code",
      "metadata": {},
      "source": [
        "# Get info about a map within the strds\n",
        "gs.run_command(\"t.info\", \n",
        "               input=\"lst_2014.005_avg\", \n",
        "               type=\"raster\")"
      ],
      "execution_count": null,
      "outputs": []
    },
    {
      "cell_type": "markdown",
      "metadata": {},
      "source": [
        "::: {.callout-note}\n",
        "Compare with the output of `r.info map=lst_2014.005_avg`.\n",
        ":::\n",
        "\n",
        "\n",
        "#### Different ways of registering maps\n",
        "\n",
        "According to the data you are working with, there might be different options\n",
        "to properly register the data within time series objects. The case presented\n",
        "above is one of the easiest, i.e., data represents regular intervals. So, \n",
        "`start`, `increment` and `i` did it. \n",
        "\n",
        "Let's suppose however, we now work with the so called 8-day or 16-day products.\n",
        "These also represent interval time, but the last map of each year has a different\n",
        "granularity. This is because the aggregation cycle restarts every January 1st, \n",
        "and also because we have leap years. In this case, the option `increment=\"8 days\"`\n",
        "will give wrong results. The solution is to create a text file containing\n",
        "map name, start and end time, and pass it with the `file` option. \n",
        "\n",
        "Luckily, this can be done programmatically, and tools such as \n",
        "[i.modis.import](https://grass.osgeo.org/grass83/manuals/addons/i.modis.import.html)\n",
        "even do that for you after downloading products. Since most data file names\n",
        "come with some indication of date, we can use that to create our file. See\n",
        "for example this \n",
        "[small python script](https://grasswiki.osgeo.org/wiki/Temporal_data_processing#Creating_a_STRDS_and_registering_maps).\n",
        "\n",
        "A somehow similar case happens when we work with imagery data. Usually, they\n",
        "represent time instances (not intervals, i.e., no end date). Hence, to register\n",
        "imagery data, we might also need to create a text file. In this case, with map\n",
        "names and start time only. Tools like\n",
        "[i.sentinel.import](https://grass.osgeo.org/grass-stable/manuals/addons/i.sentinel.import.html) or \n",
        "[i.landsat.import](https://grass.osgeo.org/grass-stable/manuals/addons/i.landsat.import.html) \n",
        "can create this file for you when you import data into GRASS GIS. \n",
        "\n",
        "::: {.callout-note}\n",
        "Have a look at the \n",
        "<a href=\"https://grass.osgeo.org/grass83/manuals/t.register.html\">t.register</a> \n",
        "manual page and a dedicated \n",
        "[wiki](https://grasswiki.osgeo.org/wiki/Temporal_data_processing/maps_registration) \n",
        "with further examples.\n",
        ":::\n",
        "\n",
        "\n",
        "### Time series visualization\n",
        "\n",
        "There are different tools for time series visualization in GRASS GIS. In this\n",
        "tutorial, we will explore those within the Graphical User Interface.\n",
        "\n",
        "#### Timeline plot\n",
        "\n",
        "The timeline plot, [`g.gui.timeline`](https://grass.osgeo.org/grass-stable/manuals/g.gui.timeline.html), \n",
        "is a graphic visualization of the temporal and (optionally) spatial granularity \n",
        "and extent of a STDS. It is very useful to compare granularities\n",
        "and observe topological relationships among STDS. "
      ]
    },
    {
      "cell_type": "code",
      "metadata": {},
      "source": [
        "!g.gui.timeline inputs=lst_daily"
      ],
      "execution_count": null,
      "outputs": []
    },
    {
      "cell_type": "markdown",
      "metadata": {},
      "source": [
        "![g.gui.timeline output](img/timeline.png){width=60%}\n",
        "\n",
        "#### Temporal plot for Trento, Italy\n",
        "\n",
        "The temporal plot tool, [`g.gui.tplot`](https://grass.osgeo.org/grass83/manuals/g.gui.tplot.html), \n",
        "allows to plot the time series values of raster or vector space-time \n",
        "datasets. In this case, we will plot the LST time series for the city of \n",
        "Trento, Italy. \n",
        "In the graphical interface of `g.gui.tplot`, the point coordinates can be typed \n",
        "directly, copied from the map or selected interactively in the *map display*."
      ]
    },
    {
      "cell_type": "code",
      "metadata": {},
      "source": [
        "# LST time series plot for Trento city center\n",
        "!g.gui.tplot strds=lst_daily coordinates=4410837.455830389,2559852.473498233 title=\"Trento daily LST\" xlabel=\"Time\" ylabel=\"LST (C)\" size=800,500 output=trento.png "
      ],
      "execution_count": null,
      "outputs": []
    },
    {
      "cell_type": "markdown",
      "metadata": {},
      "source": [
        "![g.gui.tplot output](img/trento.png){width=70%}\n",
        "\n",
        ":::{.callout-note}\n",
        "If instead you want to query and plot time series of several points in a vector \n",
        "map, you might want to check \n",
        "<a href=\"https://grass.osgeo.org/grass-stable/manuals/t.rast.what.html\">t.rast.what</a>."
      ]
    },
    {
      "cell_type": "code",
      "metadata": {
        "scrolled": true
      },
      "source": [
        "gs.run_command(\"v.random\", \n",
        "              output=\"random_points\",\n",
        "              npoints=5,\n",
        "              seed=54)\n",
        "gs.run_command(\"t.rast.what\",\n",
        "                points=\"random_points\",\n",
        "                strds=\"lst_daily\",\n",
        "                where=\"start_time >= '2018-09-30'\",\n",
        "                layout=\"col\",\n",
        "                flags=\"n\")"
      ],
      "execution_count": null,
      "outputs": []
    },
    {
      "cell_type": "markdown",
      "metadata": {},
      "source": [
        ":::\n",
        "\n",
        "\n",
        "### Lists and selections\n",
        "\n",
        "There are different modules dedicated to listing within the temporal framework:\n",
        "\n",
        "- [t.list](https://grass.osgeo.org/grass-stable/manuals/t.list.html) to list STDS and maps registered within the temporal database whether they belong or not to a STDS,\n",
        "- [t.rast.list](https://grass.osgeo.org/grass-stable/manuals/t.rast.list.html) for maps in raster time series, and\n",
        "- [t.vect.list](https://grass.osgeo.org/grass-stable/manuals/t.vect.list.html) for maps in vector time series.\n",
        "\n",
        "The variables that can be used to perform listing and selections differ among\n",
        "raster and vector time series:\n",
        "\n",
        "- STRDS: id, name, creator, mapset, temporal_type, creation_time, start_time, end_time, north, south, west, east, nsres, ewres, cols, rows, number_of_cells, min, max.\n",
        "- STVDS: id, name, layer, creator, mapset, temporal_type, creation_time, start_time, end_time, north, south, west, east, points, lines, boundaries, centroids, faces, kernels, primitives, nodes, areas, islands, holes, volumes.\n",
        "\n",
        "Let's see some listing examples:"
      ]
    },
    {
      "cell_type": "code",
      "metadata": {},
      "source": [
        "# Check list of STRDS in the mapset\n",
        "print(gs.read_command(\"t.list\", \n",
        "                      type=\"strds\"))"
      ],
      "execution_count": null,
      "outputs": []
    },
    {
      "cell_type": "code",
      "metadata": {
        "scrolled": true
      },
      "source": [
        "# Check raster maps in the temporal database\n",
        "print(gs.read_command(\"t.list\", \n",
        "                      type=\"raster\",\n",
        "                      where=\"start_time >= '2018-06-30'\"))"
      ],
      "execution_count": null,
      "outputs": []
    },
    {
      "cell_type": "code",
      "metadata": {
        "scrolled": true
      },
      "source": [
        "# Check the list of maps in the STRDS\n",
        "print(gs.read_command(\"t.rast.list\", \n",
        "                      input=\"lst_daily\"))"
      ],
      "execution_count": null,
      "outputs": []
    },
    {
      "cell_type": "code",
      "metadata": {
        "scrolled": true
      },
      "source": [
        "# Check min and max per map\n",
        "print(gs.read_command(\"t.rast.list\",\n",
        "                      input=\"lst_daily\",\n",
        "                      columns=\"name,min,max\"))"
      ],
      "execution_count": null,
      "outputs": []
    },
    {
      "cell_type": "code",
      "metadata": {
        "scrolled": true
      },
      "source": [
        "# Maps with minimum value lower than or equal to 10\n",
        "print(gs.read_command(\"t.rast.list\",\n",
        "                      input=\"lst_daily\",\n",
        "                      order=\"min\", \n",
        "                      columns=\"name,start_time,min\",\n",
        "                      where=\"min <= '10.0'\"))"
      ],
      "execution_count": null,
      "outputs": []
    },
    {
      "cell_type": "code",
      "metadata": {
        "scrolled": true
      },
      "source": [
        "# Maps with maximum value higher than 30\n",
        "print(gs.read_command(\"t.rast.list\",\n",
        "                      input=\"lst_daily\",\n",
        "                      order=\"max\",\n",
        "                      columns=\"name,start_time,max\",\n",
        "                      where=\"max > '30.0'\"))"
      ],
      "execution_count": null,
      "outputs": []
    },
    {
      "cell_type": "code",
      "metadata": {
        "scrolled": true
      },
      "source": [
        "# Maps between two given dates\n",
        "print(gs.read_command(\"t.rast.list\",\n",
        "                      input=\"lst_daily\",\n",
        "                      columns=\"name,start_time\",\n",
        "                      where=\"start_time >= '2015-05' and start_time <= '2015-08-01 00:00:00'\"))"
      ],
      "execution_count": null,
      "outputs": []
    },
    {
      "cell_type": "code",
      "metadata": {
        "scrolled": true
      },
      "source": [
        "# Maps from January\n",
        "print(gs.read_command(\"t.rast.list\",\n",
        "                      input=\"lst_daily\",\n",
        "                      columns=\"name,start_time\",\n",
        "                      where=\"strftime('%m', start_time)='01'\"))"
      ],
      "execution_count": null,
      "outputs": []
    },
    {
      "cell_type": "markdown",
      "metadata": {},
      "source": [
        "Most tools within the temporal framework have the `where` option. So, the\n",
        "same selections that we performed here as examples, can be then performed\n",
        "within tools to determine maps that will go through a certain processing.\n",
        "\n",
        "\n",
        "### Descriptive statistics\n",
        "\n",
        "The tool [`t.rast.univar`]() calculates univariate statistics from the \n",
        "non-null cells of each raster map within STRDS.\n",
        "By default it returns the name of the map, the start and end date of the \n",
        "dataset and the following values: mean, minimum and maximum value, \n",
        "mean_of_abs, standard deviation, variance, coeff_var, number of null cells, \n",
        "total number of cells. "
      ]
    },
    {
      "cell_type": "code",
      "metadata": {
        "scrolled": true
      },
      "source": [
        "# Print univariate stats for maps within STRDS\n",
        "print(gs.read_command(\"t.rast.univar\",\n",
        "                      input=\"lst_daily\",\n",
        "                      nprocs=6))"
      ],
      "execution_count": null,
      "outputs": []
    },
    {
      "cell_type": "markdown",
      "metadata": {},
      "source": [
        "Using the `e` flag it can calculate also extended statistics and the output can \n",
        "be saved in a text file to be read elsewhere. "
      ]
    },
    {
      "cell_type": "code",
      "metadata": {},
      "source": [
        "# Write extended univariate stats output to a csv file\n",
        "gs.run_command(\"t.rast.univar\",\n",
        "                flags=\"e\",\n",
        "                input=\"lst_daily\",\n",
        "                output=os.path.join(\"ext_stats_lst_daily.csv\"),\n",
        "                separator=\"comma\",\n",
        "                nprocs=6)"
      ],
      "execution_count": null,
      "outputs": []
    },
    {
      "cell_type": "markdown",
      "metadata": {},
      "source": [
        "The Python pandas package allows us to read this file and then make plots. "
      ]
    },
    {
      "cell_type": "code",
      "metadata": {},
      "source": [
        "# Read the csv and plot\n",
        "import pandas as pd\n",
        "\n",
        "lst = pd.read_csv(os.path.join(\"ext_stats_lst_daily.csv\"), usecols=[2,4,5,6])\n",
        "lst['start'] = pd.to_datetime(lst.start, format=\"%Y-%m-%d\", exact=False)"
      ],
      "execution_count": null,
      "outputs": []
    },
    {
      "cell_type": "markdown",
      "metadata": {},
      "source": [
        "Let's have a look at the table and plot:"
      ]
    },
    {
      "cell_type": "code",
      "metadata": {},
      "source": [
        "lst"
      ],
      "execution_count": null,
      "outputs": []
    },
    {
      "cell_type": "code",
      "metadata": {},
      "source": [
        "lst.plot.line(0, [1,2,3], subplots=False);"
      ],
      "execution_count": null,
      "outputs": []
    }
  ],
  "metadata": {
    "kernelspec": {
      "name": "python3",
      "language": "python",
      "display_name": "Python 3 (ipykernel)"
    }
  },
  "nbformat": 4,
  "nbformat_minor": 4
}