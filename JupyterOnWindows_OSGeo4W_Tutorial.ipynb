{
 "cells": [
  {
   "cell_type": "markdown",
   "metadata": {
    "tags": []
   },
   "source": [
    "# Running GRASS in Jupyter Notebooks in Windows with OSGeo4W\n",
    "\n",
    "This is the recommended way of running GRASS GIS in Jupyter Notebooks.\n",
    "\n",
    "## Set Up\n",
    "\n",
    "On Windows, we'll use the OSGeo4W package manager to setup and update GRASS GIS, Jupyterlab and other dependencies. Follow the directions below to setup Jupyter and GRASS in Windows.\n",
    "\n",
    "##### *1. Download the OSGeo4W Network Installer*\n",
    "> Download the OSGeo4W network install from [here](https://trac.osgeo.org/osgeo4w/). Open it and select _\"Advanced Install\"_.\n",
    "\n",
    "##### *2. Install GRASS GIS, Jupyterlab and `grass.jupyter` dependencies*\n",
    "> Follow the prompts until you get to the _\"Select Packages\"_ window (the defaults are fine for most situations). Use the Search bar to find and select the following packages for install (switching from \"Skip\" to the version number):\n",
    "> * `grass`\n",
    "> * `python3-jupyterlab`\n",
    "> * `python3-ipywidgets`\n",
    "\n",
    "##### *3. Go make a cup of tea*\n",
    "> It may take a minute to install... Click \"Finish\" and exit when it finishes.\n",
    "\n",
    "##### *3. Open the OSGeo4W Shell and install folium*\n",
    "> Launch the OSGeo4W Shell.\n",
    ">\n",
    "> Install folium with:\n",
    ">\n",
    "> `pip install folium`\n",
    "\n",
    "##### *6. Launch Jupyter Lab*\n",
    ">We're ready to launch jupyterlab now: \n",
    ">\n",
    ">`jupyter lab`\n",
    ">\n",
    ">This should launch jupyter lab in a your default web browser. Use the left side panel to navigate to the notebook you wish to run and you're ready to go!\n",
    "\n",
    "##### *7. Launching Jupyter Lab in the Future*\n",
    ">To launch Jupyter Lab in the future:\n",
    ">1. Open the OSGeo4W Shell\n",
    ">2. Launch jupyter lab with `jupyter lab`"
   ]
  },
  {
   "cell_type": "markdown",
   "metadata": {},
   "source": [
    "## Start\n",
    "\n",
    "Now, we're ready to code! Let's import the GRASS GIS Python packages and launch GRASS."
   ]
  },
  {
   "cell_type": "code",
   "execution_count": null,
   "metadata": {
    "tags": []
   },
   "outputs": [],
   "source": [
    "# Import standard python packages\n",
    "import sys\n",
    "import subprocess\n",
    "\n",
    "# Ask GRASS GIS where its Python packages are and add them to the path\n",
    "grass_call = \"grass83\"\n",
    "sys.path.append(\n",
    "    subprocess.check_output([grass_call, \"--config\", \"python_path\"], text=True, shell=True).strip()\n",
    ")\n",
    "\n",
    "# Import the GRASS GIS python packages we need\n",
    "import grass.script as gs\n",
    "import grass.jupyter as gj\n",
    "\n",
    "# Launch a GRASS GIS session.\n",
    "gj.init(\"path/to/grassdata\", \"nc_spm_08_grass\", \"user1\");"
   ]
  },
  {
   "cell_type": "markdown",
   "metadata": {},
   "source": [
    "## Using GRASS\n",
    "\n",
    "Now that we have GRASS GIS running in our notebook, let's try some basic commands. \n",
    "\n",
    "In this section, we create an elevation map from the sample GRASS GIS dataset for North Carolina, USA. \n",
    "\n",
    "First, we set computational region."
   ]
  },
  {
   "cell_type": "code",
   "execution_count": null,
   "metadata": {
    "tags": []
   },
   "outputs": [],
   "source": [
    "# Print dictionary of compulational region and set to the study area.\n",
    "gs.parse_command('g.region', raster=\"elevation\", flags='pg')\n",
    "\n",
    "# Set colors for elevation raster\n",
    "gs.run_command('r.colors', map=\"elevation\", color=\"elevation\")"
   ]
  },
  {
   "cell_type": "markdown",
   "metadata": {},
   "source": [
    "Then, we'll make our first map."
   ]
  },
  {
   "cell_type": "code",
   "execution_count": null,
   "metadata": {
    "tags": []
   },
   "outputs": [],
   "source": [
    "img = gj.Map() # Create Map instance\n",
    "img.d_rast(map=\"elevation\") # Add a raster\n",
    "img.d_legend(raster=\"elevation\", at=(55, 95, 80, 84), flags=\"b\") # add legend\n",
    "img.show() # Display map"
   ]
  },
  {
   "cell_type": "markdown",
   "metadata": {},
   "source": [
    "Now, we're up and running!"
   ]
  },
  {
   "cell_type": "markdown",
   "metadata": {},
   "source": [
    "## Troubleshooting\n",
    "\n",
    "Something not working? Here are some common stumbling blocks..."
   ]
  },
  {
   "cell_type": "markdown",
   "metadata": {
    "editable": true,
    "slideshow": {
     "slide_type": ""
    },
    "tags": []
   },
   "source": [
    "***\n",
    "\n",
    "`FileNotFoundError: [WinError 2] The system cannot find the file specified`\n",
    "\n",
    "Check the `shell` parameter in the `subprocess.check_output()`. On Windows, this should be `shell=True`. On Mac and Linux operating systems, this should be `shell=False`.\n",
    "\n",
    "***\n",
    "\n",
    "`CalledProcessError: Command '['grass83', '--config', 'python_path']' returned non-zero exit status 1.`\n",
    "\n",
    "Check which version of GRASS GIS you have installed. On Windows, the `grass_call` should be `grass` followed by the first two digits of the version you have installed (for example, GRASS GIS 8.4 would be called with `grass84`). On Mac and Linux, it should be just `grass`.\n",
    "\n",
    "***\n",
    "\n",
    "Errors from `gj.init()`\n",
    "\n",
    "This command takes several different configurations of the location of the Project and Mapset. All the following are example that work:\n",
    "\n",
    ">`gj.init(\"path/to/grassdata\", \"project_name\", \"mapset_name\")`\n",
    ">`gj.init(\"path/to/grassdata/project_name/mapset_name\")`\n",
    ">`gj.init(\"../project_name/mapset_name\") #relative path to project`\n",
    "\n",
    "Also pay attention to the slash direction. Windows uses `\\` in it's file paths but the `\\` character in strings is also for escaping characters (for example, putting `\\n` in a string will print a new line). Therefore, you'll need to either switch to forward slashes (`/`) or put double back-slashes (`\\\\`)."
   ]
  }
 ],
 "metadata": {
  "kernelspec": {
   "display_name": "Python 3 (ipykernel)",
   "language": "python",
   "name": "python3"
  },
  "language_info": {
   "codemirror_mode": {
    "name": "ipython",
    "version": 3
   },
   "file_extension": ".py",
   "mimetype": "text/x-python",
   "name": "python",
   "nbconvert_exporter": "python",
   "pygments_lexer": "ipython3",
   "version": "3.12.4"
  }
 },
 "nbformat": 4,
 "nbformat_minor": 4
}
